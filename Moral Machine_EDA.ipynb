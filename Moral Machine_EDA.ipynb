{
 "cells": [
  {
   "cell_type": "markdown",
   "metadata": {},
   "source": [
    "**Exploratory Data Analysis**\n",
    "\n",
    "Read in the Dataset and look at the basic shape."
   ]
  },
  {
   "cell_type": "code",
   "execution_count": 3,
   "metadata": {},
   "outputs": [],
   "source": [
    "%matplotlib inline\n",
    "import warnings \n",
    "warnings.simplefilter(action='ignore')\n",
    "import pandas as pd\n",
    "pd.options.display.float_format = '{:.2f}'.format\n",
    "import numpy as np\n",
    "import seaborn as sns\n",
    "import matplotlib.pyplot as plt"
   ]
  },
  {
   "cell_type": "code",
   "execution_count": 4,
   "metadata": {},
   "outputs": [
    {
     "data": {
      "text/html": [
       "<div>\n",
       "<style scoped>\n",
       "    .dataframe tbody tr th:only-of-type {\n",
       "        vertical-align: middle;\n",
       "    }\n",
       "\n",
       "    .dataframe tbody tr th {\n",
       "        vertical-align: top;\n",
       "    }\n",
       "\n",
       "    .dataframe thead th {\n",
       "        text-align: right;\n",
       "    }\n",
       "</style>\n",
       "<table border=\"1\" class=\"dataframe\">\n",
       "  <thead>\n",
       "    <tr style=\"text-align: right;\">\n",
       "      <th></th>\n",
       "      <th>ResponseID</th>\n",
       "      <th>ExtendedSessionID</th>\n",
       "      <th>UserID</th>\n",
       "      <th>ScenarioOrder</th>\n",
       "      <th>Intervention</th>\n",
       "      <th>PedPed</th>\n",
       "      <th>Barrier</th>\n",
       "      <th>CrossingSignal</th>\n",
       "      <th>AttributeLevel</th>\n",
       "      <th>ScenarioTypeStrict</th>\n",
       "      <th>...</th>\n",
       "      <th>Template</th>\n",
       "      <th>DescriptionShown</th>\n",
       "      <th>LeftHand</th>\n",
       "      <th>UserCountry3</th>\n",
       "      <th>Review_age</th>\n",
       "      <th>Review_education</th>\n",
       "      <th>Review_gender</th>\n",
       "      <th>Review_income</th>\n",
       "      <th>Review_political</th>\n",
       "      <th>Review_religious</th>\n",
       "    </tr>\n",
       "  </thead>\n",
       "  <tbody>\n",
       "    <tr>\n",
       "      <th>0</th>\n",
       "      <td>3ubu5Minm7ygqK3oa</td>\n",
       "      <td>-2147481563_6968366610050747.0</td>\n",
       "      <td>6968366610050750.00</td>\n",
       "      <td>13</td>\n",
       "      <td>0</td>\n",
       "      <td>0</td>\n",
       "      <td>0</td>\n",
       "      <td>0</td>\n",
       "      <td>Female</td>\n",
       "      <td>Gender</td>\n",
       "      <td>...</td>\n",
       "      <td>Desktop</td>\n",
       "      <td>0.00</td>\n",
       "      <td>0.00</td>\n",
       "      <td>RUS</td>\n",
       "      <td>32.00</td>\n",
       "      <td>bachelor</td>\n",
       "      <td>male</td>\n",
       "      <td>35000</td>\n",
       "      <td>0.50</td>\n",
       "      <td>0.61</td>\n",
       "    </tr>\n",
       "    <tr>\n",
       "      <th>1</th>\n",
       "      <td>FKd9Fje2tWt2sHi6v</td>\n",
       "      <td>-2147481563_6968366610050747.0</td>\n",
       "      <td>6968366610050750.00</td>\n",
       "      <td>8</td>\n",
       "      <td>0</td>\n",
       "      <td>1</td>\n",
       "      <td>0</td>\n",
       "      <td>0</td>\n",
       "      <td>Fat</td>\n",
       "      <td>Fitness</td>\n",
       "      <td>...</td>\n",
       "      <td>Desktop</td>\n",
       "      <td>0.00</td>\n",
       "      <td>0.00</td>\n",
       "      <td>RUS</td>\n",
       "      <td>32.00</td>\n",
       "      <td>bachelor</td>\n",
       "      <td>male</td>\n",
       "      <td>35000</td>\n",
       "      <td>0.50</td>\n",
       "      <td>0.61</td>\n",
       "    </tr>\n",
       "    <tr>\n",
       "      <th>2</th>\n",
       "      <td>J6WRHLj8exr4bNwTm</td>\n",
       "      <td>-2147481563_6968366610050747.0</td>\n",
       "      <td>6968366610050750.00</td>\n",
       "      <td>2</td>\n",
       "      <td>0</td>\n",
       "      <td>0</td>\n",
       "      <td>0</td>\n",
       "      <td>2</td>\n",
       "      <td>Young</td>\n",
       "      <td>Age</td>\n",
       "      <td>...</td>\n",
       "      <td>Desktop</td>\n",
       "      <td>0.00</td>\n",
       "      <td>1.00</td>\n",
       "      <td>RUS</td>\n",
       "      <td>32.00</td>\n",
       "      <td>bachelor</td>\n",
       "      <td>male</td>\n",
       "      <td>35000</td>\n",
       "      <td>0.50</td>\n",
       "      <td>0.61</td>\n",
       "    </tr>\n",
       "    <tr>\n",
       "      <th>3</th>\n",
       "      <td>KcYXwqS3rTrbqdTY2</td>\n",
       "      <td>-2147481563_6968366610050747.0</td>\n",
       "      <td>6968366610050750.00</td>\n",
       "      <td>1</td>\n",
       "      <td>0</td>\n",
       "      <td>1</td>\n",
       "      <td>0</td>\n",
       "      <td>2</td>\n",
       "      <td>Pets</td>\n",
       "      <td>Species</td>\n",
       "      <td>...</td>\n",
       "      <td>Desktop</td>\n",
       "      <td>0.00</td>\n",
       "      <td>1.00</td>\n",
       "      <td>RUS</td>\n",
       "      <td>32.00</td>\n",
       "      <td>bachelor</td>\n",
       "      <td>male</td>\n",
       "      <td>35000</td>\n",
       "      <td>0.50</td>\n",
       "      <td>0.61</td>\n",
       "    </tr>\n",
       "    <tr>\n",
       "      <th>4</th>\n",
       "      <td>ZQsAWst58jK9HcKvx</td>\n",
       "      <td>-2147481563_6968366610050747.0</td>\n",
       "      <td>6968366610050750.00</td>\n",
       "      <td>5</td>\n",
       "      <td>0</td>\n",
       "      <td>1</td>\n",
       "      <td>0</td>\n",
       "      <td>0</td>\n",
       "      <td>Fit</td>\n",
       "      <td>Fitness</td>\n",
       "      <td>...</td>\n",
       "      <td>Desktop</td>\n",
       "      <td>0.00</td>\n",
       "      <td>1.00</td>\n",
       "      <td>RUS</td>\n",
       "      <td>32.00</td>\n",
       "      <td>bachelor</td>\n",
       "      <td>male</td>\n",
       "      <td>35000</td>\n",
       "      <td>0.50</td>\n",
       "      <td>0.61</td>\n",
       "    </tr>\n",
       "  </tbody>\n",
       "</table>\n",
       "<p>5 rows × 27 columns</p>\n",
       "</div>"
      ],
      "text/plain": [
       "          ResponseID               ExtendedSessionID              UserID  \\\n",
       "0  3ubu5Minm7ygqK3oa  -2147481563_6968366610050747.0 6968366610050750.00   \n",
       "1  FKd9Fje2tWt2sHi6v  -2147481563_6968366610050747.0 6968366610050750.00   \n",
       "2  J6WRHLj8exr4bNwTm  -2147481563_6968366610050747.0 6968366610050750.00   \n",
       "3  KcYXwqS3rTrbqdTY2  -2147481563_6968366610050747.0 6968366610050750.00   \n",
       "4  ZQsAWst58jK9HcKvx  -2147481563_6968366610050747.0 6968366610050750.00   \n",
       "\n",
       "   ScenarioOrder  Intervention  PedPed  Barrier  CrossingSignal  \\\n",
       "0             13             0       0        0               0   \n",
       "1              8             0       1        0               0   \n",
       "2              2             0       0        0               2   \n",
       "3              1             0       1        0               2   \n",
       "4              5             0       1        0               0   \n",
       "\n",
       "  AttributeLevel ScenarioTypeStrict  ... Template DescriptionShown LeftHand  \\\n",
       "0         Female             Gender  ...  Desktop             0.00     0.00   \n",
       "1            Fat            Fitness  ...  Desktop             0.00     0.00   \n",
       "2          Young                Age  ...  Desktop             0.00     1.00   \n",
       "3           Pets            Species  ...  Desktop             0.00     1.00   \n",
       "4            Fit            Fitness  ...  Desktop             0.00     1.00   \n",
       "\n",
       "   UserCountry3  Review_age  Review_education  Review_gender Review_income  \\\n",
       "0           RUS       32.00          bachelor           male         35000   \n",
       "1           RUS       32.00          bachelor           male         35000   \n",
       "2           RUS       32.00          bachelor           male         35000   \n",
       "3           RUS       32.00          bachelor           male         35000   \n",
       "4           RUS       32.00          bachelor           male         35000   \n",
       "\n",
       "   Review_political  Review_religious  \n",
       "0              0.50              0.61  \n",
       "1              0.50              0.61  \n",
       "2              0.50              0.61  \n",
       "3              0.50              0.61  \n",
       "4              0.50              0.61  \n",
       "\n",
       "[5 rows x 27 columns]"
      ]
     },
     "execution_count": 4,
     "metadata": {},
     "output_type": "execute_result"
    }
   ],
   "source": [
    "df = pd.read_csv('MoralMachine.csv', index_col=None, low_memory=False, header = 0)\n",
    "df.head()[0:10]"
   ]
  },
  {
   "cell_type": "code",
   "execution_count": 5,
   "metadata": {},
   "outputs": [
    {
     "data": {
      "text/plain": [
       "(11286141, 27)"
      ]
     },
     "execution_count": 5,
     "metadata": {},
     "output_type": "execute_result"
    }
   ],
   "source": [
    "df.shape"
   ]
  },
  {
   "cell_type": "markdown",
   "metadata": {},
   "source": [
    "**Size of Dataset**\n",
    "\n",
    "Without removing anything: 11,286,141 (27 columns) \n",
    "\n",
    "After removing other sexes: 9,924,739\n",
    "\n",
    "After removing default income: 8,162,082\n",
    "\n",
    "After removing ages that are out of bounds: 6,668,693\n",
    "\n",
    "After removing users who had answered over 28 times: 6,654,387\n",
    "\n",
    "After removing the random entries: 5,947,161"
   ]
  },
  {
   "cell_type": "code",
   "execution_count": 6,
   "metadata": {},
   "outputs": [
    {
     "data": {
      "text/plain": [
       "Index(['ResponseID', 'ExtendedSessionID', 'UserID', 'ScenarioOrder',\n",
       "       'Intervention', 'PedPed', 'Barrier', 'CrossingSignal', 'AttributeLevel',\n",
       "       'ScenarioTypeStrict', 'ScenarioType', 'DefaultChoice',\n",
       "       'NonDefaultChoice', 'DefaultChoiceIsOmission', 'NumberOfCharacters',\n",
       "       'DiffNumberOFCharacters', 'Saved', 'Template', 'DescriptionShown',\n",
       "       'LeftHand', 'UserCountry3', 'Review_age', 'Review_education',\n",
       "       'Review_gender', 'Review_income', 'Review_political',\n",
       "       'Review_religious'],\n",
       "      dtype='object')"
      ]
     },
     "execution_count": 6,
     "metadata": {},
     "output_type": "execute_result"
    }
   ],
   "source": [
    "df.columns"
   ]
  },
  {
   "cell_type": "markdown",
   "metadata": {},
   "source": [
    "**Null Values**\n",
    "\n",
    "Quite a lot of null values for age - when looking through some values these tend to match when the other columns are given default although not always. But in 95% of the cases the values after such as income level and education aren't answered properly so rows when age isn't answered re removed"
   ]
  },
  {
   "cell_type": "code",
   "execution_count": 7,
   "metadata": {},
   "outputs": [
    {
     "data": {
      "text/plain": [
       "ResponseID                       0\n",
       "ExtendedSessionID                0\n",
       "UserID                           0\n",
       "ScenarioOrder                    0\n",
       "Intervention                     0\n",
       "PedPed                           0\n",
       "Barrier                          0\n",
       "CrossingSignal                   0\n",
       "AttributeLevel                   0\n",
       "ScenarioTypeStrict               0\n",
       "ScenarioType                     0\n",
       "DefaultChoice              1201814\n",
       "NonDefaultChoice           1201814\n",
       "DefaultChoiceIsOmission    1201814\n",
       "NumberOfCharacters               0\n",
       "DiffNumberOFCharacters           0\n",
       "Saved                            0\n",
       "Template                       398\n",
       "DescriptionShown               398\n",
       "LeftHand                       398\n",
       "UserCountry3                 41641\n",
       "Review_age                 1360030\n",
       "Review_education                 0\n",
       "Review_gender                   90\n",
       "Review_income                    0\n",
       "Review_political                 0\n",
       "Review_religious                 0\n",
       "dtype: int64"
      ]
     },
     "execution_count": 7,
     "metadata": {},
     "output_type": "execute_result"
    }
   ],
   "source": [
    "df.isnull().sum()"
   ]
  },
  {
   "cell_type": "code",
   "execution_count": 8,
   "metadata": {},
   "outputs": [
    {
     "data": {
      "text/plain": [
       "ResponseID                  object\n",
       "ExtendedSessionID           object\n",
       "UserID                     float64\n",
       "ScenarioOrder                int64\n",
       "Intervention                 int64\n",
       "PedPed                       int64\n",
       "Barrier                      int64\n",
       "CrossingSignal               int64\n",
       "AttributeLevel              object\n",
       "ScenarioTypeStrict          object\n",
       "ScenarioType                object\n",
       "DefaultChoice               object\n",
       "NonDefaultChoice            object\n",
       "DefaultChoiceIsOmission    float64\n",
       "NumberOfCharacters           int64\n",
       "DiffNumberOFCharacters       int64\n",
       "Saved                        int64\n",
       "Template                    object\n",
       "DescriptionShown           float64\n",
       "LeftHand                   float64\n",
       "UserCountry3                object\n",
       "Review_age                 float64\n",
       "Review_education            object\n",
       "Review_gender               object\n",
       "Review_income               object\n",
       "Review_political           float64\n",
       "Review_religious           float64\n",
       "dtype: object"
      ]
     },
     "execution_count": 8,
     "metadata": {},
     "output_type": "execute_result"
    }
   ],
   "source": [
    "#Lets take a look at the data types\n",
    "df.dtypes"
   ]
  },
  {
   "cell_type": "markdown",
   "metadata": {},
   "source": [
    "**Value Counts**\n",
    "\n",
    "The following step is to observe the number of responses that each user makes. A user should be faced with 13 scenarios with each scenario having two response entries, so if a user completes the 'experiment', there should be 26 responses for that user. There are some with slightly fewer responses, but those that are clearly outliers with either too few or too many response should be removed"
   ]
  },
  {
   "cell_type": "code",
   "execution_count": 9,
   "metadata": {},
   "outputs": [
    {
     "data": {
      "image/png": "[encoded data removed]",
      "text/plain": [
       "<Figure size 432x288 with 1 Axes>"
      ]
     },
     "metadata": {
      "needs_background": "light"
     },
     "output_type": "display_data"
    }
   ],
   "source": [
    "#Grouping the value counts of Users into different bins to see what the average tended to be\n",
    "value_counts = df['UserID'].value_counts()\n",
    "\n",
    "smaller_13 = value_counts[value_counts < 13].index  \n",
    "smaller_18 = value_counts[value_counts >= 13].index & value_counts[value_counts < 18].index  \n",
    "smaller_21 = value_counts[value_counts >= 18].index & value_counts[value_counts < 21].index  \n",
    "smaller_24 = value_counts[value_counts >= 21].index & value_counts[value_counts < 24].index  \n",
    "smaller_26 = value_counts[value_counts >= 24].index & value_counts[value_counts < 26].index  \n",
    "smaller_28 = value_counts[value_counts >= 26].index & value_counts[value_counts < 28].index  \n",
    "larger_28 = value_counts[value_counts >= 28].index\n",
    "\n",
    "smaller_13_length = len(smaller_13)\n",
    "smaller_18_length = len(smaller_18)\n",
    "smaller_21_length = len(smaller_21)\n",
    "smaller_24_length = len(smaller_24)\n",
    "smaller_26_length = len(smaller_26)\n",
    "smaller_28_length = len(smaller_28)\n",
    "larger_28_length = len(larger_28)\n",
    "\n",
    "all_lengths = [smaller_13_length, smaller_18_length, smaller_21_length, smaller_24_length, smaller_26_length, smaller_28_length, larger_28_length]\n",
    "categories = [\"Sub-13\", \"Sub-18\", \"Sub-21\", \"Sub-24\", \"Sub-26\", \"Sub-28\", \"Over-28\"]\n",
    "x_pos = [i for i, _ in enumerate(categories)]\n",
    "\n",
    "plt.bar(x_pos, all_lengths, color='green')\n",
    "plt.bar(categories, all_lengths)\n",
    "\n",
    "plt.xlabel(\"Number of Decisions\")\n",
    "plt.ylabel(\"User groups\")\n",
    "plt.title(\"Number of decision groups\")\n",
    "\n",
    "plt.xticks(x_pos, categories)\n",
    "\n",
    "plt.show()"
   ]
  },
  {
   "cell_type": "code",
   "execution_count": 10,
   "metadata": {},
   "outputs": [],
   "source": [
    "#Removing Users with less than 22 responses and more than 28 responses\n",
    "\n",
    "to_remove = value_counts[value_counts >= 28].index\n",
    "to_remove_1 = value_counts[value_counts < 22].index\n",
    "df = df[~df.ExtendedSessionID.isin(to_remove)]\n",
    "df = df[~df.ExtendedSessionID.isin(to_remove_1)]"
   ]
  },
  {
   "cell_type": "markdown",
   "metadata": {},
   "source": [
    "**Scenario Counts**\n",
    "\n",
    "There are 7 different scenarios including 'Random' which will be removed as it is not of interest for this study. Social Status clearly has a lot less entries (about 1/3 of the other scenarios) than the other scenarios."
   ]
  },
  {
   "cell_type": "code",
   "execution_count": 11,
   "metadata": {},
   "outputs": [
    {
     "data": {
      "text/plain": [
       "Utilitarian      1977056\n",
       "Species          1919396\n",
       "Gender           1917456\n",
       "Age              1917290\n",
       "Fitness          1916408\n",
       "Random            957497\n",
       "Social Status     681038\n",
       "Name: ScenarioTypeStrict, dtype: int64"
      ]
     },
     "execution_count": 11,
     "metadata": {},
     "output_type": "execute_result"
    }
   ],
   "source": [
    "#Looking at Scenario Type Strict\n",
    "df['ScenarioTypeStrict'].value_counts()"
   ]
  },
  {
   "cell_type": "markdown",
   "metadata": {},
   "source": [
    "**Exploring the User Demographics**"
   ]
  },
  {
   "cell_type": "markdown",
   "metadata": {},
   "source": [
    "**Country Distribution**\n",
    "\n",
    "A quick look at the country distribution shows the large number of US users and the other top 9 countries."
   ]
  },
  {
   "cell_type": "code",
   "execution_count": 12,
   "metadata": {},
   "outputs": [
    {
     "data": {
      "text/plain": [
       "<matplotlib.axes._subplots.AxesSubplot at 0x109d62550>"
      ]
     },
     "execution_count": 12,
     "metadata": {},
     "output_type": "execute_result"
    },
    {
     "data": {
      "image/png": "[encoded data removed]",
      "text/plain": [
       "<Figure size 432x288 with 1 Axes>"
      ]
     },
     "metadata": {
      "needs_background": "light"
     },
     "output_type": "display_data"
    }
   ],
   "source": [
    "country_count = df['UserCountry3'].value_counts()[0:10]\n",
    "sns.barplot(country_count.index, country_count.values)"
   ]
  },
  {
   "cell_type": "markdown",
   "metadata": {},
   "source": [
    "**Education Distribution**"
   ]
  },
  {
   "cell_type": "code",
   "execution_count": 13,
   "metadata": {},
   "outputs": [
    {
     "name": "stdout",
     "output_type": "stream",
     "text": [
      "bachelor      2143555\n",
      "graduate      1900875\n",
      "high          1778943\n",
      "underHigh     1597312\n",
      "college       1455204\n",
      "vocational     368176\n",
      "Name: Review_education, dtype: int64\n"
     ]
    },
    {
     "data": {
      "text/plain": [
       "<matplotlib.axes._subplots.AxesSubplot at 0x11ca97518>"
      ]
     },
     "execution_count": 13,
     "metadata": {},
     "output_type": "execute_result"
    },
    {
     "data": {
      "image/png": "[encoded data removed]",
      "text/plain": [
       "<Figure size 432x288 with 1 Axes>"
      ]
     },
     "metadata": {
      "needs_background": "light"
     },
     "output_type": "display_data"
    }
   ],
   "source": [
    "#Convert to numerical\n",
    "df = df[df.Review_education != 'default']\n",
    "df = df[df.Review_education != 'others']\n",
    "education = df['Review_education'].value_counts()\n",
    "print(education)\n",
    "sns.barplot(education.index, education.values)"
   ]
  },
  {
   "cell_type": "markdown",
   "metadata": {},
   "source": [
    "**Gender Distribution**\n",
    "\n",
    "Removing those that are \"default\", \"others\" or \"apache helicopter\" as they form a large minority."
   ]
  },
  {
   "cell_type": "code",
   "execution_count": 14,
   "metadata": {},
   "outputs": [
    {
     "name": "stdout",
     "output_type": "stream",
     "text": [
      "male      6526098\n",
      "female    2451185\n",
      "Name: Review_gender, dtype: int64\n"
     ]
    },
    {
     "data": {
      "text/plain": [
       "<matplotlib.axes._subplots.AxesSubplot at 0x11cadd2e8>"
      ]
     },
     "execution_count": 14,
     "metadata": {},
     "output_type": "execute_result"
    },
    {
     "data": {
      "image/png": "[encoded data removed]",
      "text/plain": [
       "<Figure size 432x288 with 1 Axes>"
      ]
     },
     "metadata": {
      "needs_background": "light"
     },
     "output_type": "display_data"
    }
   ],
   "source": [
    "df = df[df.Review_gender != 'default']\n",
    "df = df[df.Review_gender != 'others']\n",
    "df = df[df.Review_gender != 'apache helicopter']\n",
    "gender = df['Review_gender'].value_counts()\n",
    "print(gender)\n",
    "sns.barplot(gender.index, gender.values)"
   ]
  },
  {
   "cell_type": "markdown",
   "metadata": {},
   "source": [
    "**Income Levels**\n",
    "\n",
    "Can see the high number of users with very low incomes, as they're such a young age, with high education levels and with the nature of the study, we could make the assumption that there are a high proportion of students."
   ]
  },
  {
   "cell_type": "code",
   "execution_count": 15,
   "metadata": {},
   "outputs": [
    {
     "name": "stdout",
     "output_type": "stream",
     "text": [
      "0.00         2841329\n",
      "5000.00       749666\n",
      "50000.00      720985\n",
      "35000.00      695694\n",
      "15000.00      625754\n",
      "100000.00     625710\n",
      "25000.00      585418\n",
      "10000.00      551587\n",
      "80000.00      316048\n",
      "Name: Review_income, dtype: int64\n"
     ]
    },
    {
     "data": {
      "image/png": "[encoded data removed]",
      "text/plain": [
       "<Figure size 432x288 with 1 Axes>"
      ]
     },
     "metadata": {
      "needs_background": "light"
     },
     "output_type": "display_data"
    }
   ],
   "source": [
    "df = df[df.Review_income != 'default']\n",
    "df['Review_income'] = df['Review_income'].map({'under5000': 0, '10000': 10000, 'above100000': 100000, \n",
    "                                               '5000': 5000, '50000': 50000, '35000': 35000, '15000': 15000,\n",
    "                                              '25000': 25000, '10000': 10000, '80000': 80000})\n",
    "income = df['Review_income'].value_counts()\n",
    "sns.barplot(income.index, income.values)\n",
    "print(income)"
   ]
  },
  {
   "cell_type": "markdown",
   "metadata": {},
   "source": [
    "**Age Distribution**\n",
    "\n",
    "There are some ridiculous values within the age category, therefore all values below 16 or above 74 are removed. Can see a high proportion of youngsters from the graph below."
   ]
  },
  {
   "cell_type": "code",
   "execution_count": 16,
   "metadata": {},
   "outputs": [],
   "source": [
    "df = df[df['Review_age'] < 75] \n",
    "df = df[df['Review_age'] > 16]\n",
    "age = df['Review_age'].value_counts()"
   ]
  },
  {
   "cell_type": "code",
   "execution_count": 17,
   "metadata": {
    "scrolled": true
   },
   "outputs": [
    {
     "data": {
      "text/plain": [
       "<matplotlib.axes._subplots.AxesSubplot at 0x11cc894e0>"
      ]
     },
     "execution_count": 17,
     "metadata": {},
     "output_type": "execute_result"
    },
    {
     "data": {
      "image/png": "[encoded data removed]",
      "text/plain": [
       "<Figure size 432x288 with 1 Axes>"
      ]
     },
     "metadata": {
      "needs_background": "light"
     },
     "output_type": "display_data"
    }
   ],
   "source": [
    "sns.kdeplot(df['Review_age'])"
   ]
  },
  {
   "cell_type": "markdown",
   "metadata": {},
   "source": [
    "Graph below to showcase the distribution across education and separated by gender."
   ]
  },
  {
   "cell_type": "code",
   "execution_count": 19,
   "metadata": {},
   "outputs": [
    {
     "ename": "ValueError",
     "evalue": "Bar is not a valid plot kind",
     "output_type": "error",
     "traceback": [
      "\u001b[0;31m---------------------------------------------------------------------------\u001b[0m",
      "\u001b[0;31mValueError\u001b[0m                                Traceback (most recent call last)",
      "\u001b[0;32m<ipython-input-19-7be16dfe2a78>\u001b[0m in \u001b[0;36m<module>\u001b[0;34m\u001b[0m\n\u001b[0;32m----> 1\u001b[0;31m \u001b[0mdf\u001b[0m\u001b[0;34m.\u001b[0m\u001b[0mgroupby\u001b[0m\u001b[0;34m(\u001b[0m\u001b[0;34m[\u001b[0m\u001b[0;34m'Review_education'\u001b[0m\u001b[0;34m]\u001b[0m\u001b[0;34m)\u001b[0m\u001b[0;34m[\u001b[0m\u001b[0;34m'Review_gender'\u001b[0m\u001b[0;34m]\u001b[0m\u001b[0;34m.\u001b[0m\u001b[0mvalue_counts\u001b[0m\u001b[0;34m(\u001b[0m\u001b[0;34m)\u001b[0m\u001b[0;34m.\u001b[0m\u001b[0mplot\u001b[0m\u001b[0;34m(\u001b[0m\u001b[0mkind\u001b[0m\u001b[0;34m=\u001b[0m\u001b[0;34m'Bar'\u001b[0m\u001b[0;34m)\u001b[0m\u001b[0;34m\u001b[0m\u001b[0;34m\u001b[0m\u001b[0m\n\u001b[0m",
      "\u001b[0;32m~/anaconda3/lib/python3.7/site-packages/pandas/plotting/_core.py\u001b[0m in \u001b[0;36m__call__\u001b[0;34m(self, *args, **kwargs)\u001b[0m\n\u001b[1;32m    724\u001b[0m         \u001b[0mkind\u001b[0m \u001b[0;34m=\u001b[0m \u001b[0mself\u001b[0m\u001b[0;34m.\u001b[0m\u001b[0m_kind_aliases\u001b[0m\u001b[0;34m.\u001b[0m\u001b[0mget\u001b[0m\u001b[0;34m(\u001b[0m\u001b[0mkind\u001b[0m\u001b[0;34m,\u001b[0m \u001b[0mkind\u001b[0m\u001b[0;34m)\u001b[0m\u001b[0;34m\u001b[0m\u001b[0;34m\u001b[0m\u001b[0m\n\u001b[1;32m    725\u001b[0m         \u001b[0;32mif\u001b[0m \u001b[0mkind\u001b[0m \u001b[0;32mnot\u001b[0m \u001b[0;32min\u001b[0m \u001b[0mself\u001b[0m\u001b[0;34m.\u001b[0m\u001b[0m_all_kinds\u001b[0m\u001b[0;34m:\u001b[0m\u001b[0;34m\u001b[0m\u001b[0;34m\u001b[0m\u001b[0m\n\u001b[0;32m--> 726\u001b[0;31m             \u001b[0;32mraise\u001b[0m \u001b[0mValueError\u001b[0m\u001b[0;34m(\u001b[0m\u001b[0;34m\"{} is not a valid plot kind\"\u001b[0m\u001b[0;34m.\u001b[0m\u001b[0mformat\u001b[0m\u001b[0;34m(\u001b[0m\u001b[0mkind\u001b[0m\u001b[0;34m)\u001b[0m\u001b[0;34m)\u001b[0m\u001b[0;34m\u001b[0m\u001b[0;34m\u001b[0m\u001b[0m\n\u001b[0m\u001b[1;32m    727\u001b[0m \u001b[0;34m\u001b[0m\u001b[0m\n\u001b[1;32m    728\u001b[0m         \u001b[0;31m# The original data structured can be transformed before passed to the\u001b[0m\u001b[0;34m\u001b[0m\u001b[0;34m\u001b[0m\u001b[0;34m\u001b[0m\u001b[0m\n",
      "\u001b[0;31mValueError\u001b[0m: Bar is not a valid plot kind"
     ]
    }
   ],
   "source": [
    "df.groupby(['Review_education'])['Review_gender'].value_counts().plot(kind='Bar')"
   ]
  },
  {
   "cell_type": "markdown",
   "metadata": {},
   "source": [
    "**Religion Distribution**\n",
    "\n",
    "Indicator between 0 and 1 as to how strong they feel religiously."
   ]
  },
  {
   "cell_type": "code",
   "execution_count": 20,
   "metadata": {},
   "outputs": [
    {
     "data": {
      "image/png": "[encoded data removed]",
      "text/plain": [
       "<Figure size 432x288 with 1 Axes>"
      ]
     },
     "metadata": {
      "needs_background": "light"
     },
     "output_type": "display_data"
    }
   ],
   "source": [
    "religion_male = df.loc[df.Review_gender=='male', 'Review_religious']\n",
    "religion_female = df.loc[df.Review_gender=='female', 'Review_religious']\n",
    "\n",
    "kwargs = dict(alpha=0.5, bins=10)\n",
    "plt.hist(religion_male, **kwargs, color='g', label='male')\n",
    "plt.hist(religion_female, **kwargs, color='b', label='female')\n",
    "plt.gca().set(title='Frequency Histogram of Religion', ylabel='Frequency')\n",
    "plt.xlim(0,1)\n",
    "plt.legend();"
   ]
  },
  {
   "cell_type": "markdown",
   "metadata": {},
   "source": [
    "**Political Distribution**\n",
    "\n",
    "Indicator between 0 and 1 as to how strong they feel politically."
   ]
  },
  {
   "cell_type": "code",
   "execution_count": 21,
   "metadata": {},
   "outputs": [
    {
     "data": {
      "image/png": "[encoded data removed]",
      "text/plain": [
       "<Figure size 432x288 with 1 Axes>"
      ]
     },
     "metadata": {
      "needs_background": "light"
     },
     "output_type": "display_data"
    }
   ],
   "source": [
    "#Review Political situation\n",
    "political_male = df.loc[df.Review_gender=='male', 'Review_political']\n",
    "political_female = df.loc[df.Review_gender=='female', 'Review_political']\n",
    "\n",
    "kwargs = dict(alpha=0.5, bins=10)\n",
    "\n",
    "plt.hist(political_male, **kwargs, color='g', label='male')\n",
    "plt.hist(political_female, **kwargs, color='b', label='female')\n",
    "plt.gca().set(title='Frequency Histogram of Politics', ylabel='Frequency')\n",
    "plt.xlim(0,1)\n",
    "plt.legend();\n"
   ]
  },
  {
   "cell_type": "markdown",
   "metadata": {},
   "source": [
    "**Dropping the columns that are irrelevant for this study and the na values**"
   ]
  },
  {
   "cell_type": "code",
   "execution_count": 26,
   "metadata": {},
   "outputs": [
    {
     "ename": "KeyError",
     "evalue": "\"['Intervention' 'ScenarioOrder' 'PedPed' 'Barrier' 'CrossingSignal'] not found in axis\"",
     "output_type": "error",
     "traceback": [
      "\u001b[0;31m---------------------------------------------------------------------------\u001b[0m",
      "\u001b[0;31mKeyError\u001b[0m                                  Traceback (most recent call last)",
      "\u001b[0;32m<ipython-input-26-ea418de36a06>\u001b[0m in \u001b[0;36m<module>\u001b[0;34m\u001b[0m\n\u001b[0;32m----> 1\u001b[0;31m \u001b[0mdf\u001b[0m \u001b[0;34m=\u001b[0m \u001b[0mdf\u001b[0m\u001b[0;34m.\u001b[0m\u001b[0mdrop\u001b[0m\u001b[0;34m(\u001b[0m\u001b[0;34m[\u001b[0m\u001b[0;34m'Intervention'\u001b[0m\u001b[0;34m,\u001b[0m \u001b[0;34m'ScenarioOrder'\u001b[0m\u001b[0;34m,\u001b[0m \u001b[0;34m'PedPed'\u001b[0m\u001b[0;34m,\u001b[0m \u001b[0;34m'Barrier'\u001b[0m\u001b[0;34m,\u001b[0m \u001b[0;34m'CrossingSignal'\u001b[0m\u001b[0;34m,\u001b[0m \u001b[0;34m'ExtendedSessionID'\u001b[0m\u001b[0;34m]\u001b[0m\u001b[0;34m,\u001b[0m \u001b[0maxis\u001b[0m \u001b[0;34m=\u001b[0m \u001b[0;36m1\u001b[0m\u001b[0;34m)\u001b[0m\u001b[0;34m\u001b[0m\u001b[0;34m\u001b[0m\u001b[0m\n\u001b[0m\u001b[1;32m      2\u001b[0m \u001b[0mdf\u001b[0m \u001b[0;34m=\u001b[0m \u001b[0mdf\u001b[0m\u001b[0;34m.\u001b[0m\u001b[0mdrop\u001b[0m\u001b[0;34m(\u001b[0m\u001b[0;34m[\u001b[0m\u001b[0;34m'ScenarioTypeStrict'\u001b[0m\u001b[0;34m,\u001b[0m \u001b[0;34m'DiffNumberOFCharacters'\u001b[0m\u001b[0;34m,\u001b[0m\u001b[0;34m'Template'\u001b[0m\u001b[0;34m,\u001b[0m \u001b[0;34m'DescriptionShown'\u001b[0m\u001b[0;34m,\u001b[0m \u001b[0;34m'LeftHand'\u001b[0m\u001b[0;34m]\u001b[0m\u001b[0;34m,\u001b[0m \u001b[0maxis\u001b[0m \u001b[0;34m=\u001b[0m \u001b[0;36m1\u001b[0m\u001b[0;34m)\u001b[0m\u001b[0;34m\u001b[0m\u001b[0;34m\u001b[0m\u001b[0m\n\u001b[1;32m      3\u001b[0m \u001b[0mdf\u001b[0m \u001b[0;34m=\u001b[0m \u001b[0mdf\u001b[0m\u001b[0;34m[\u001b[0m\u001b[0mdf\u001b[0m\u001b[0;34m.\u001b[0m\u001b[0mScenarioType\u001b[0m \u001b[0;34m!=\u001b[0m \u001b[0;34m'Random'\u001b[0m\u001b[0;34m]\u001b[0m\u001b[0;34m\u001b[0m\u001b[0;34m\u001b[0m\u001b[0m\n\u001b[1;32m      4\u001b[0m \u001b[0mdf\u001b[0m \u001b[0;34m=\u001b[0m \u001b[0mdf\u001b[0m\u001b[0;34m.\u001b[0m\u001b[0mdropna\u001b[0m\u001b[0;34m(\u001b[0m\u001b[0;34m)\u001b[0m \u001b[0;31m#will drop remaining countries na - around 4000\u001b[0m\u001b[0;34m\u001b[0m\u001b[0;34m\u001b[0m\u001b[0m\n",
      "\u001b[0;32m~/anaconda3/lib/python3.7/site-packages/pandas/core/frame.py\u001b[0m in \u001b[0;36mdrop\u001b[0;34m(self, labels, axis, index, columns, level, inplace, errors)\u001b[0m\n\u001b[1;32m   4115\u001b[0m             \u001b[0mlevel\u001b[0m\u001b[0;34m=\u001b[0m\u001b[0mlevel\u001b[0m\u001b[0;34m,\u001b[0m\u001b[0;34m\u001b[0m\u001b[0;34m\u001b[0m\u001b[0m\n\u001b[1;32m   4116\u001b[0m             \u001b[0minplace\u001b[0m\u001b[0;34m=\u001b[0m\u001b[0minplace\u001b[0m\u001b[0;34m,\u001b[0m\u001b[0;34m\u001b[0m\u001b[0;34m\u001b[0m\u001b[0m\n\u001b[0;32m-> 4117\u001b[0;31m             \u001b[0merrors\u001b[0m\u001b[0;34m=\u001b[0m\u001b[0merrors\u001b[0m\u001b[0;34m,\u001b[0m\u001b[0;34m\u001b[0m\u001b[0;34m\u001b[0m\u001b[0m\n\u001b[0m\u001b[1;32m   4118\u001b[0m         )\n\u001b[1;32m   4119\u001b[0m \u001b[0;34m\u001b[0m\u001b[0m\n",
      "\u001b[0;32m~/anaconda3/lib/python3.7/site-packages/pandas/core/generic.py\u001b[0m in \u001b[0;36mdrop\u001b[0;34m(self, labels, axis, index, columns, level, inplace, errors)\u001b[0m\n\u001b[1;32m   3912\u001b[0m         \u001b[0;32mfor\u001b[0m \u001b[0maxis\u001b[0m\u001b[0;34m,\u001b[0m \u001b[0mlabels\u001b[0m \u001b[0;32min\u001b[0m \u001b[0maxes\u001b[0m\u001b[0;34m.\u001b[0m\u001b[0mitems\u001b[0m\u001b[0;34m(\u001b[0m\u001b[0;34m)\u001b[0m\u001b[0;34m:\u001b[0m\u001b[0;34m\u001b[0m\u001b[0;34m\u001b[0m\u001b[0m\n\u001b[1;32m   3913\u001b[0m             \u001b[0;32mif\u001b[0m \u001b[0mlabels\u001b[0m \u001b[0;32mis\u001b[0m \u001b[0;32mnot\u001b[0m \u001b[0;32mNone\u001b[0m\u001b[0;34m:\u001b[0m\u001b[0;34m\u001b[0m\u001b[0;34m\u001b[0m\u001b[0m\n\u001b[0;32m-> 3914\u001b[0;31m                 \u001b[0mobj\u001b[0m \u001b[0;34m=\u001b[0m \u001b[0mobj\u001b[0m\u001b[0;34m.\u001b[0m\u001b[0m_drop_axis\u001b[0m\u001b[0;34m(\u001b[0m\u001b[0mlabels\u001b[0m\u001b[0;34m,\u001b[0m \u001b[0maxis\u001b[0m\u001b[0;34m,\u001b[0m \u001b[0mlevel\u001b[0m\u001b[0;34m=\u001b[0m\u001b[0mlevel\u001b[0m\u001b[0;34m,\u001b[0m \u001b[0merrors\u001b[0m\u001b[0;34m=\u001b[0m\u001b[0merrors\u001b[0m\u001b[0;34m)\u001b[0m\u001b[0;34m\u001b[0m\u001b[0;34m\u001b[0m\u001b[0m\n\u001b[0m\u001b[1;32m   3915\u001b[0m \u001b[0;34m\u001b[0m\u001b[0m\n\u001b[1;32m   3916\u001b[0m         \u001b[0;32mif\u001b[0m \u001b[0minplace\u001b[0m\u001b[0;34m:\u001b[0m\u001b[0;34m\u001b[0m\u001b[0;34m\u001b[0m\u001b[0m\n",
      "\u001b[0;32m~/anaconda3/lib/python3.7/site-packages/pandas/core/generic.py\u001b[0m in \u001b[0;36m_drop_axis\u001b[0;34m(self, labels, axis, level, errors)\u001b[0m\n\u001b[1;32m   3944\u001b[0m                 \u001b[0mnew_axis\u001b[0m \u001b[0;34m=\u001b[0m \u001b[0maxis\u001b[0m\u001b[0;34m.\u001b[0m\u001b[0mdrop\u001b[0m\u001b[0;34m(\u001b[0m\u001b[0mlabels\u001b[0m\u001b[0;34m,\u001b[0m \u001b[0mlevel\u001b[0m\u001b[0;34m=\u001b[0m\u001b[0mlevel\u001b[0m\u001b[0;34m,\u001b[0m \u001b[0merrors\u001b[0m\u001b[0;34m=\u001b[0m\u001b[0merrors\u001b[0m\u001b[0;34m)\u001b[0m\u001b[0;34m\u001b[0m\u001b[0;34m\u001b[0m\u001b[0m\n\u001b[1;32m   3945\u001b[0m             \u001b[0;32melse\u001b[0m\u001b[0;34m:\u001b[0m\u001b[0;34m\u001b[0m\u001b[0;34m\u001b[0m\u001b[0m\n\u001b[0;32m-> 3946\u001b[0;31m                 \u001b[0mnew_axis\u001b[0m \u001b[0;34m=\u001b[0m \u001b[0maxis\u001b[0m\u001b[0;34m.\u001b[0m\u001b[0mdrop\u001b[0m\u001b[0;34m(\u001b[0m\u001b[0mlabels\u001b[0m\u001b[0;34m,\u001b[0m \u001b[0merrors\u001b[0m\u001b[0;34m=\u001b[0m\u001b[0merrors\u001b[0m\u001b[0;34m)\u001b[0m\u001b[0;34m\u001b[0m\u001b[0;34m\u001b[0m\u001b[0m\n\u001b[0m\u001b[1;32m   3947\u001b[0m             \u001b[0mresult\u001b[0m \u001b[0;34m=\u001b[0m \u001b[0mself\u001b[0m\u001b[0;34m.\u001b[0m\u001b[0mreindex\u001b[0m\u001b[0;34m(\u001b[0m\u001b[0;34m**\u001b[0m\u001b[0;34m{\u001b[0m\u001b[0maxis_name\u001b[0m\u001b[0;34m:\u001b[0m \u001b[0mnew_axis\u001b[0m\u001b[0;34m}\u001b[0m\u001b[0;34m)\u001b[0m\u001b[0;34m\u001b[0m\u001b[0;34m\u001b[0m\u001b[0m\n\u001b[1;32m   3948\u001b[0m \u001b[0;34m\u001b[0m\u001b[0m\n",
      "\u001b[0;32m~/anaconda3/lib/python3.7/site-packages/pandas/core/indexes/base.py\u001b[0m in \u001b[0;36mdrop\u001b[0;34m(self, labels, errors)\u001b[0m\n\u001b[1;32m   5338\u001b[0m         \u001b[0;32mif\u001b[0m \u001b[0mmask\u001b[0m\u001b[0;34m.\u001b[0m\u001b[0many\u001b[0m\u001b[0;34m(\u001b[0m\u001b[0;34m)\u001b[0m\u001b[0;34m:\u001b[0m\u001b[0;34m\u001b[0m\u001b[0;34m\u001b[0m\u001b[0m\n\u001b[1;32m   5339\u001b[0m             \u001b[0;32mif\u001b[0m \u001b[0merrors\u001b[0m \u001b[0;34m!=\u001b[0m \u001b[0;34m\"ignore\"\u001b[0m\u001b[0;34m:\u001b[0m\u001b[0;34m\u001b[0m\u001b[0;34m\u001b[0m\u001b[0m\n\u001b[0;32m-> 5340\u001b[0;31m                 \u001b[0;32mraise\u001b[0m \u001b[0mKeyError\u001b[0m\u001b[0;34m(\u001b[0m\u001b[0;34m\"{} not found in axis\"\u001b[0m\u001b[0;34m.\u001b[0m\u001b[0mformat\u001b[0m\u001b[0;34m(\u001b[0m\u001b[0mlabels\u001b[0m\u001b[0;34m[\u001b[0m\u001b[0mmask\u001b[0m\u001b[0;34m]\u001b[0m\u001b[0;34m)\u001b[0m\u001b[0;34m)\u001b[0m\u001b[0;34m\u001b[0m\u001b[0;34m\u001b[0m\u001b[0m\n\u001b[0m\u001b[1;32m   5341\u001b[0m             \u001b[0mindexer\u001b[0m \u001b[0;34m=\u001b[0m \u001b[0mindexer\u001b[0m\u001b[0;34m[\u001b[0m\u001b[0;34m~\u001b[0m\u001b[0mmask\u001b[0m\u001b[0;34m]\u001b[0m\u001b[0;34m\u001b[0m\u001b[0;34m\u001b[0m\u001b[0m\n\u001b[1;32m   5342\u001b[0m         \u001b[0;32mreturn\u001b[0m \u001b[0mself\u001b[0m\u001b[0;34m.\u001b[0m\u001b[0mdelete\u001b[0m\u001b[0;34m(\u001b[0m\u001b[0mindexer\u001b[0m\u001b[0;34m)\u001b[0m\u001b[0;34m\u001b[0m\u001b[0;34m\u001b[0m\u001b[0m\n",
      "\u001b[0;31mKeyError\u001b[0m: \"['Intervention' 'ScenarioOrder' 'PedPed' 'Barrier' 'CrossingSignal'] not found in axis\""
     ]
    }
   ],
   "source": [
    "df = df.drop(['Intervention', 'ScenarioOrder', 'PedPed', 'Barrier', 'CrossingSignal', 'ExtendedSessionID'], axis = 1)\n",
    "df = df.drop(['ScenarioTypeStrict', 'DiffNumberOFCharacters','Template', 'DescriptionShown', 'LeftHand'], axis = 1)\n",
    "df = df[df.ScenarioType != 'Random']\n",
    "df = df.dropna() #will drop remaining countries na - around 4000"
   ]
  },
  {
   "cell_type": "code",
   "execution_count": 23,
   "metadata": {},
   "outputs": [
    {
     "data": {
      "text/html": [
       "<div>\n",
       "<style scoped>\n",
       "    .dataframe tbody tr th:only-of-type {\n",
       "        vertical-align: middle;\n",
       "    }\n",
       "\n",
       "    .dataframe tbody tr th {\n",
       "        vertical-align: top;\n",
       "    }\n",
       "\n",
       "    .dataframe thead th {\n",
       "        text-align: right;\n",
       "    }\n",
       "</style>\n",
       "<table border=\"1\" class=\"dataframe\">\n",
       "  <thead>\n",
       "    <tr style=\"text-align: right;\">\n",
       "      <th></th>\n",
       "      <th>UserID</th>\n",
       "      <th>DefaultChoiceIsOmission</th>\n",
       "      <th>NumberOfCharacters</th>\n",
       "      <th>Saved</th>\n",
       "      <th>Review_age</th>\n",
       "      <th>Review_income</th>\n",
       "      <th>Review_political</th>\n",
       "      <th>Review_religious</th>\n",
       "    </tr>\n",
       "  </thead>\n",
       "  <tbody>\n",
       "    <tr>\n",
       "      <th>count</th>\n",
       "      <td>5776032.00</td>\n",
       "      <td>5776032.00</td>\n",
       "      <td>5776032.00</td>\n",
       "      <td>5776032.00</td>\n",
       "      <td>5776032.00</td>\n",
       "      <td>5776032.00</td>\n",
       "      <td>5776032.00</td>\n",
       "      <td>5776032.00</td>\n",
       "    </tr>\n",
       "    <tr>\n",
       "      <th>mean</th>\n",
       "      <td>4995040685466511.00</td>\n",
       "      <td>0.49</td>\n",
       "      <td>3.13</td>\n",
       "      <td>0.50</td>\n",
       "      <td>27.45</td>\n",
       "      <td>25561.48</td>\n",
       "      <td>0.62</td>\n",
       "      <td>0.25</td>\n",
       "    </tr>\n",
       "    <tr>\n",
       "      <th>std</th>\n",
       "      <td>2887950232293549.50</td>\n",
       "      <td>0.50</td>\n",
       "      <td>1.46</td>\n",
       "      <td>0.50</td>\n",
       "      <td>9.32</td>\n",
       "      <td>30531.15</td>\n",
       "      <td>0.27</td>\n",
       "      <td>0.31</td>\n",
       "    </tr>\n",
       "    <tr>\n",
       "      <th>min</th>\n",
       "      <td>2271406345.00</td>\n",
       "      <td>0.00</td>\n",
       "      <td>1.00</td>\n",
       "      <td>0.00</td>\n",
       "      <td>17.00</td>\n",
       "      <td>0.00</td>\n",
       "      <td>0.00</td>\n",
       "      <td>0.00</td>\n",
       "    </tr>\n",
       "    <tr>\n",
       "      <th>25%</th>\n",
       "      <td>2489685962394030.00</td>\n",
       "      <td>0.00</td>\n",
       "      <td>2.00</td>\n",
       "      <td>0.00</td>\n",
       "      <td>20.00</td>\n",
       "      <td>0.00</td>\n",
       "      <td>0.50</td>\n",
       "      <td>0.00</td>\n",
       "    </tr>\n",
       "    <tr>\n",
       "      <th>50%</th>\n",
       "      <td>5003807089876310.00</td>\n",
       "      <td>0.00</td>\n",
       "      <td>3.00</td>\n",
       "      <td>1.00</td>\n",
       "      <td>25.00</td>\n",
       "      <td>15000.00</td>\n",
       "      <td>0.60</td>\n",
       "      <td>0.08</td>\n",
       "    </tr>\n",
       "    <tr>\n",
       "      <th>75%</th>\n",
       "      <td>7497016719572840.00</td>\n",
       "      <td>1.00</td>\n",
       "      <td>5.00</td>\n",
       "      <td>1.00</td>\n",
       "      <td>32.00</td>\n",
       "      <td>35000.00</td>\n",
       "      <td>0.83</td>\n",
       "      <td>0.50</td>\n",
       "    </tr>\n",
       "    <tr>\n",
       "      <th>max</th>\n",
       "      <td>9999992505199810.00</td>\n",
       "      <td>1.00</td>\n",
       "      <td>5.00</td>\n",
       "      <td>1.00</td>\n",
       "      <td>74.00</td>\n",
       "      <td>100000.00</td>\n",
       "      <td>1.00</td>\n",
       "      <td>1.00</td>\n",
       "    </tr>\n",
       "  </tbody>\n",
       "</table>\n",
       "</div>"
      ],
      "text/plain": [
       "                   UserID  DefaultChoiceIsOmission  NumberOfCharacters  \\\n",
       "count          5776032.00               5776032.00          5776032.00   \n",
       "mean  4995040685466511.00                     0.49                3.13   \n",
       "std   2887950232293549.50                     0.50                1.46   \n",
       "min         2271406345.00                     0.00                1.00   \n",
       "25%   2489685962394030.00                     0.00                2.00   \n",
       "50%   5003807089876310.00                     0.00                3.00   \n",
       "75%   7497016719572840.00                     1.00                5.00   \n",
       "max   9999992505199810.00                     1.00                5.00   \n",
       "\n",
       "           Saved  Review_age  Review_income  Review_political  \\\n",
       "count 5776032.00  5776032.00     5776032.00        5776032.00   \n",
       "mean        0.50       27.45       25561.48              0.62   \n",
       "std         0.50        9.32       30531.15              0.27   \n",
       "min         0.00       17.00           0.00              0.00   \n",
       "25%         0.00       20.00           0.00              0.50   \n",
       "50%         1.00       25.00       15000.00              0.60   \n",
       "75%         1.00       32.00       35000.00              0.83   \n",
       "max         1.00       74.00      100000.00              1.00   \n",
       "\n",
       "       Review_religious  \n",
       "count        5776032.00  \n",
       "mean               0.25  \n",
       "std                0.31  \n",
       "min                0.00  \n",
       "25%                0.00  \n",
       "50%                0.08  \n",
       "75%                0.50  \n",
       "max                1.00  "
      ]
     },
     "execution_count": 23,
     "metadata": {},
     "output_type": "execute_result"
    }
   ],
   "source": [
    "df.describe()"
   ]
  },
  {
   "cell_type": "markdown",
   "metadata": {},
   "source": [
    "**Reducing the number of rows to one row per response rather than two**\n",
    "\n",
    "Each response from the data collected is represented in two data entries, but for the purpose of this study that is not necessary, therefore we will select one of the two rows, containing the attributes listed below."
   ]
  },
  {
   "cell_type": "code",
   "execution_count": 24,
   "metadata": {},
   "outputs": [],
   "source": [
    "preserve = [\"Fit\", \"Young\", \"Hoomans\", \"More\", \"Male\", \"High\"]\n",
    "preserve_ids = df[\"AttributeLevel\"].isin(preserve)"
   ]
  },
  {
   "cell_type": "code",
   "execution_count": 25,
   "metadata": {},
   "outputs": [
    {
     "data": {
      "text/html": [
       "<div>\n",
       "<style scoped>\n",
       "    .dataframe tbody tr th:only-of-type {\n",
       "        vertical-align: middle;\n",
       "    }\n",
       "\n",
       "    .dataframe tbody tr th {\n",
       "        vertical-align: top;\n",
       "    }\n",
       "\n",
       "    .dataframe thead th {\n",
       "        text-align: right;\n",
       "    }\n",
       "</style>\n",
       "<table border=\"1\" class=\"dataframe\">\n",
       "  <thead>\n",
       "    <tr style=\"text-align: right;\">\n",
       "      <th></th>\n",
       "      <th>ResponseID</th>\n",
       "      <th>ExtendedSessionID</th>\n",
       "      <th>UserID</th>\n",
       "      <th>AttributeLevel</th>\n",
       "      <th>ScenarioType</th>\n",
       "      <th>DefaultChoice</th>\n",
       "      <th>NonDefaultChoice</th>\n",
       "      <th>DefaultChoiceIsOmission</th>\n",
       "      <th>NumberOfCharacters</th>\n",
       "      <th>Saved</th>\n",
       "      <th>UserCountry3</th>\n",
       "      <th>Review_age</th>\n",
       "      <th>Review_education</th>\n",
       "      <th>Review_gender</th>\n",
       "      <th>Review_income</th>\n",
       "      <th>Review_political</th>\n",
       "      <th>Review_religious</th>\n",
       "    </tr>\n",
       "  </thead>\n",
       "  <tbody>\n",
       "    <tr>\n",
       "      <th>2</th>\n",
       "      <td>J6WRHLj8exr4bNwTm</td>\n",
       "      <td>-2147481563_6968366610050747.0</td>\n",
       "      <td>6968366610050750.00</td>\n",
       "      <td>Young</td>\n",
       "      <td>Age</td>\n",
       "      <td>Young</td>\n",
       "      <td>Old</td>\n",
       "      <td>1.00</td>\n",
       "      <td>2</td>\n",
       "      <td>0</td>\n",
       "      <td>RUS</td>\n",
       "      <td>32.00</td>\n",
       "      <td>bachelor</td>\n",
       "      <td>male</td>\n",
       "      <td>35000.00</td>\n",
       "      <td>0.50</td>\n",
       "      <td>0.61</td>\n",
       "    </tr>\n",
       "    <tr>\n",
       "      <th>4</th>\n",
       "      <td>ZQsAWst58jK9HcKvx</td>\n",
       "      <td>-2147481563_6968366610050747.0</td>\n",
       "      <td>6968366610050750.00</td>\n",
       "      <td>Fit</td>\n",
       "      <td>Fitness</td>\n",
       "      <td>Fit</td>\n",
       "      <td>Fat</td>\n",
       "      <td>1.00</td>\n",
       "      <td>2</td>\n",
       "      <td>0</td>\n",
       "      <td>RUS</td>\n",
       "      <td>32.00</td>\n",
       "      <td>bachelor</td>\n",
       "      <td>male</td>\n",
       "      <td>35000.00</td>\n",
       "      <td>0.50</td>\n",
       "      <td>0.61</td>\n",
       "    </tr>\n",
       "    <tr>\n",
       "      <th>6</th>\n",
       "      <td>nej5j6wM9YmiGHgA7</td>\n",
       "      <td>-2147481563_6968366610050747.0</td>\n",
       "      <td>6968366610050750.00</td>\n",
       "      <td>More</td>\n",
       "      <td>Utilitarian</td>\n",
       "      <td>More</td>\n",
       "      <td>Less</td>\n",
       "      <td>1.00</td>\n",
       "      <td>5</td>\n",
       "      <td>1</td>\n",
       "      <td>RUS</td>\n",
       "      <td>32.00</td>\n",
       "      <td>bachelor</td>\n",
       "      <td>male</td>\n",
       "      <td>35000.00</td>\n",
       "      <td>0.50</td>\n",
       "      <td>0.61</td>\n",
       "    </tr>\n",
       "    <tr>\n",
       "      <th>8</th>\n",
       "      <td>sibXCK6jno3M94BnR</td>\n",
       "      <td>-2147481563_6968366610050747.0</td>\n",
       "      <td>6968366610050750.00</td>\n",
       "      <td>Hoomans</td>\n",
       "      <td>Species</td>\n",
       "      <td>Hoomans</td>\n",
       "      <td>Pets</td>\n",
       "      <td>1.00</td>\n",
       "      <td>2</td>\n",
       "      <td>1</td>\n",
       "      <td>RUS</td>\n",
       "      <td>32.00</td>\n",
       "      <td>bachelor</td>\n",
       "      <td>male</td>\n",
       "      <td>35000.00</td>\n",
       "      <td>0.50</td>\n",
       "      <td>0.61</td>\n",
       "    </tr>\n",
       "    <tr>\n",
       "      <th>10</th>\n",
       "      <td>zX9S9puJMRXnd54jY</td>\n",
       "      <td>-2147481563_6968366610050747.0</td>\n",
       "      <td>6968366610050750.00</td>\n",
       "      <td>More</td>\n",
       "      <td>Utilitarian</td>\n",
       "      <td>More</td>\n",
       "      <td>Less</td>\n",
       "      <td>1.00</td>\n",
       "      <td>5</td>\n",
       "      <td>0</td>\n",
       "      <td>RUS</td>\n",
       "      <td>32.00</td>\n",
       "      <td>bachelor</td>\n",
       "      <td>male</td>\n",
       "      <td>35000.00</td>\n",
       "      <td>0.50</td>\n",
       "      <td>0.61</td>\n",
       "    </tr>\n",
       "  </tbody>\n",
       "</table>\n",
       "</div>"
      ],
      "text/plain": [
       "           ResponseID               ExtendedSessionID              UserID  \\\n",
       "2   J6WRHLj8exr4bNwTm  -2147481563_6968366610050747.0 6968366610050750.00   \n",
       "4   ZQsAWst58jK9HcKvx  -2147481563_6968366610050747.0 6968366610050750.00   \n",
       "6   nej5j6wM9YmiGHgA7  -2147481563_6968366610050747.0 6968366610050750.00   \n",
       "8   sibXCK6jno3M94BnR  -2147481563_6968366610050747.0 6968366610050750.00   \n",
       "10  zX9S9puJMRXnd54jY  -2147481563_6968366610050747.0 6968366610050750.00   \n",
       "\n",
       "   AttributeLevel ScenarioType DefaultChoice NonDefaultChoice  \\\n",
       "2           Young          Age         Young              Old   \n",
       "4             Fit      Fitness           Fit              Fat   \n",
       "6            More  Utilitarian          More             Less   \n",
       "8         Hoomans      Species       Hoomans             Pets   \n",
       "10           More  Utilitarian          More             Less   \n",
       "\n",
       "    DefaultChoiceIsOmission  NumberOfCharacters  Saved UserCountry3  \\\n",
       "2                      1.00                   2      0          RUS   \n",
       "4                      1.00                   2      0          RUS   \n",
       "6                      1.00                   5      1          RUS   \n",
       "8                      1.00                   2      1          RUS   \n",
       "10                     1.00                   5      0          RUS   \n",
       "\n",
       "    Review_age Review_education Review_gender  Review_income  \\\n",
       "2        32.00         bachelor          male       35000.00   \n",
       "4        32.00         bachelor          male       35000.00   \n",
       "6        32.00         bachelor          male       35000.00   \n",
       "8        32.00         bachelor          male       35000.00   \n",
       "10       32.00         bachelor          male       35000.00   \n",
       "\n",
       "    Review_political  Review_religious  \n",
       "2               0.50              0.61  \n",
       "4               0.50              0.61  \n",
       "6               0.50              0.61  \n",
       "8               0.50              0.61  \n",
       "10              0.50              0.61  "
      ]
     },
     "execution_count": 25,
     "metadata": {},
     "output_type": "execute_result"
    }
   ],
   "source": [
    "#After removing all rows with the opposite\n",
    "df_1 = df.loc[preserve_ids, :]\n",
    "df_1.head()"
   ]
  },
  {
   "cell_type": "markdown",
   "metadata": {},
   "source": [
    "**Keeping the same with responses but lets factor out everything else**"
   ]
  },
  {
   "cell_type": "code",
   "execution_count": 27,
   "metadata": {},
   "outputs": [],
   "source": [
    "df_1 = df_1.drop(['ExtendedSessionID'], axis = 1)"
   ]
  },
  {
   "cell_type": "code",
   "execution_count": 28,
   "metadata": {},
   "outputs": [
    {
     "data": {
      "text/html": [
       "<div>\n",
       "<style scoped>\n",
       "    .dataframe tbody tr th:only-of-type {\n",
       "        vertical-align: middle;\n",
       "    }\n",
       "\n",
       "    .dataframe tbody tr th {\n",
       "        vertical-align: top;\n",
       "    }\n",
       "\n",
       "    .dataframe thead th {\n",
       "        text-align: right;\n",
       "    }\n",
       "</style>\n",
       "<table border=\"1\" class=\"dataframe\">\n",
       "  <thead>\n",
       "    <tr style=\"text-align: right;\">\n",
       "      <th></th>\n",
       "      <th>ResponseID</th>\n",
       "      <th>UserID</th>\n",
       "      <th>AttributeLevel</th>\n",
       "      <th>ScenarioType</th>\n",
       "      <th>Saved</th>\n",
       "      <th>UserCountry3</th>\n",
       "      <th>Review_age</th>\n",
       "      <th>Review_education</th>\n",
       "      <th>Review_gender</th>\n",
       "      <th>Review_income</th>\n",
       "      <th>Review_political</th>\n",
       "      <th>Review_religious</th>\n",
       "    </tr>\n",
       "  </thead>\n",
       "  <tbody>\n",
       "    <tr>\n",
       "      <th>2</th>\n",
       "      <td>J6WRHLj8exr4bNwTm</td>\n",
       "      <td>6968366610050750.00</td>\n",
       "      <td>Young</td>\n",
       "      <td>Age</td>\n",
       "      <td>0</td>\n",
       "      <td>RUS</td>\n",
       "      <td>32.00</td>\n",
       "      <td>bachelor</td>\n",
       "      <td>male</td>\n",
       "      <td>35000.00</td>\n",
       "      <td>0.50</td>\n",
       "      <td>0.61</td>\n",
       "    </tr>\n",
       "    <tr>\n",
       "      <th>4</th>\n",
       "      <td>ZQsAWst58jK9HcKvx</td>\n",
       "      <td>6968366610050750.00</td>\n",
       "      <td>Fit</td>\n",
       "      <td>Fitness</td>\n",
       "      <td>0</td>\n",
       "      <td>RUS</td>\n",
       "      <td>32.00</td>\n",
       "      <td>bachelor</td>\n",
       "      <td>male</td>\n",
       "      <td>35000.00</td>\n",
       "      <td>0.50</td>\n",
       "      <td>0.61</td>\n",
       "    </tr>\n",
       "    <tr>\n",
       "      <th>6</th>\n",
       "      <td>nej5j6wM9YmiGHgA7</td>\n",
       "      <td>6968366610050750.00</td>\n",
       "      <td>More</td>\n",
       "      <td>Utilitarian</td>\n",
       "      <td>1</td>\n",
       "      <td>RUS</td>\n",
       "      <td>32.00</td>\n",
       "      <td>bachelor</td>\n",
       "      <td>male</td>\n",
       "      <td>35000.00</td>\n",
       "      <td>0.50</td>\n",
       "      <td>0.61</td>\n",
       "    </tr>\n",
       "    <tr>\n",
       "      <th>8</th>\n",
       "      <td>sibXCK6jno3M94BnR</td>\n",
       "      <td>6968366610050750.00</td>\n",
       "      <td>Hoomans</td>\n",
       "      <td>Species</td>\n",
       "      <td>1</td>\n",
       "      <td>RUS</td>\n",
       "      <td>32.00</td>\n",
       "      <td>bachelor</td>\n",
       "      <td>male</td>\n",
       "      <td>35000.00</td>\n",
       "      <td>0.50</td>\n",
       "      <td>0.61</td>\n",
       "    </tr>\n",
       "    <tr>\n",
       "      <th>10</th>\n",
       "      <td>zX9S9puJMRXnd54jY</td>\n",
       "      <td>6968366610050750.00</td>\n",
       "      <td>More</td>\n",
       "      <td>Utilitarian</td>\n",
       "      <td>0</td>\n",
       "      <td>RUS</td>\n",
       "      <td>32.00</td>\n",
       "      <td>bachelor</td>\n",
       "      <td>male</td>\n",
       "      <td>35000.00</td>\n",
       "      <td>0.50</td>\n",
       "      <td>0.61</td>\n",
       "    </tr>\n",
       "  </tbody>\n",
       "</table>\n",
       "</div>"
      ],
      "text/plain": [
       "           ResponseID              UserID AttributeLevel ScenarioType  Saved  \\\n",
       "2   J6WRHLj8exr4bNwTm 6968366610050750.00          Young          Age      0   \n",
       "4   ZQsAWst58jK9HcKvx 6968366610050750.00            Fit      Fitness      0   \n",
       "6   nej5j6wM9YmiGHgA7 6968366610050750.00           More  Utilitarian      1   \n",
       "8   sibXCK6jno3M94BnR 6968366610050750.00        Hoomans      Species      1   \n",
       "10  zX9S9puJMRXnd54jY 6968366610050750.00           More  Utilitarian      0   \n",
       "\n",
       "   UserCountry3  Review_age Review_education Review_gender  Review_income  \\\n",
       "2           RUS       32.00         bachelor          male       35000.00   \n",
       "4           RUS       32.00         bachelor          male       35000.00   \n",
       "6           RUS       32.00         bachelor          male       35000.00   \n",
       "8           RUS       32.00         bachelor          male       35000.00   \n",
       "10          RUS       32.00         bachelor          male       35000.00   \n",
       "\n",
       "    Review_political  Review_religious  \n",
       "2               0.50              0.61  \n",
       "4               0.50              0.61  \n",
       "6               0.50              0.61  \n",
       "8               0.50              0.61  \n",
       "10              0.50              0.61  "
      ]
     },
     "execution_count": 28,
     "metadata": {},
     "output_type": "execute_result"
    }
   ],
   "source": [
    "df_1 = df_1.drop(['DefaultChoice', 'NonDefaultChoice', 'DefaultChoiceIsOmission', 'NumberOfCharacters'], axis = 1)\n",
    "df_1.head()"
   ]
  },
  {
   "cell_type": "code",
   "execution_count": 30,
   "metadata": {},
   "outputs": [
    {
     "data": {
      "text/plain": [
       "USA    580667\n",
       "BRA    283978\n",
       "FRA    208404\n",
       "DEU    194829\n",
       "GBR    153885\n",
       "        ...  \n",
       "IRN      1258\n",
       "BIH      1220\n",
       "ISL      1148\n",
       "DOM      1106\n",
       "CYP      1084\n",
       "Name: UserCountry3, Length: 76, dtype: int64"
      ]
     },
     "execution_count": 30,
     "metadata": {},
     "output_type": "execute_result"
    }
   ],
   "source": [
    "#Dropping countries with less than 1000 counts\n",
    "country = df_1['UserCountry3'].value_counts()\n",
    "country_remove = country[country < 1000].index\n",
    "df_1 = df_1[~df_1.UserCountry3.isin(country_remove)]\n",
    "df_1['UserCountry3'].value_counts()"
   ]
  },
  {
   "cell_type": "code",
   "execution_count": 32,
   "metadata": {},
   "outputs": [
    {
     "data": {
      "text/plain": [
       "(2893345, 12)"
      ]
     },
     "execution_count": 32,
     "metadata": {},
     "output_type": "execute_result"
    }
   ],
   "source": [
    "df_1.shape\n"
   ]
  },
  {
   "cell_type": "markdown",
   "metadata": {},
   "source": [
    "**Save this dataset for logistic regression**"
   ]
  },
  {
   "cell_type": "code",
   "execution_count": 33,
   "metadata": {},
   "outputs": [],
   "source": [
    "df_1.to_csv('df_responselogistic_moral.csv')"
   ]
  },
  {
   "cell_type": "markdown",
   "metadata": {},
   "source": [
    "**Transforming the Data Table to have a row for each User**\n",
    "\n",
    "Each User now has the Scenario Type spread across 6 columns with his or her answers being averaged.\n",
    "\n",
    "There are nan's in the Social Status column because some Users were not actually faced with this scenario. This is considered when running PCA as there can be no nan values, therefore these users are removed from PCA experimentation."
   ]
  },
  {
   "cell_type": "code",
   "execution_count": 29,
   "metadata": {},
   "outputs": [
    {
     "data": {
      "text/html": [
       "<div>\n",
       "<style scoped>\n",
       "    .dataframe tbody tr th:only-of-type {\n",
       "        vertical-align: middle;\n",
       "    }\n",
       "\n",
       "    .dataframe tbody tr th {\n",
       "        vertical-align: top;\n",
       "    }\n",
       "\n",
       "    .dataframe thead th {\n",
       "        text-align: right;\n",
       "    }\n",
       "</style>\n",
       "<table border=\"1\" class=\"dataframe\">\n",
       "  <thead>\n",
       "    <tr style=\"text-align: right;\">\n",
       "      <th></th>\n",
       "      <th>UserID</th>\n",
       "      <th>Age</th>\n",
       "      <th>Fitness</th>\n",
       "      <th>Gender</th>\n",
       "      <th>Social Status</th>\n",
       "      <th>Species</th>\n",
       "      <th>Utilitarian</th>\n",
       "      <th>Review_age</th>\n",
       "      <th>Review_education</th>\n",
       "      <th>Review_gender</th>\n",
       "      <th>Review_income</th>\n",
       "      <th>UserCountry3</th>\n",
       "      <th>Review_political</th>\n",
       "      <th>Review_religious</th>\n",
       "    </tr>\n",
       "  </thead>\n",
       "  <tbody>\n",
       "    <tr>\n",
       "      <th>0</th>\n",
       "      <td>2271406345.00</td>\n",
       "      <td>0.50</td>\n",
       "      <td>0.50</td>\n",
       "      <td>0.00</td>\n",
       "      <td>nan</td>\n",
       "      <td>1.00</td>\n",
       "      <td>0.50</td>\n",
       "      <td>41.00</td>\n",
       "      <td>bachelor</td>\n",
       "      <td>male</td>\n",
       "      <td>15000.00</td>\n",
       "      <td>DEU</td>\n",
       "      <td>0.48</td>\n",
       "      <td>0.81</td>\n",
       "    </tr>\n",
       "    <tr>\n",
       "      <th>1</th>\n",
       "      <td>2423489328.00</td>\n",
       "      <td>0.50</td>\n",
       "      <td>1.00</td>\n",
       "      <td>0.00</td>\n",
       "      <td>nan</td>\n",
       "      <td>1.00</td>\n",
       "      <td>1.00</td>\n",
       "      <td>31.00</td>\n",
       "      <td>bachelor</td>\n",
       "      <td>female</td>\n",
       "      <td>50000.00</td>\n",
       "      <td>BRA</td>\n",
       "      <td>0.35</td>\n",
       "      <td>0.00</td>\n",
       "    </tr>\n",
       "    <tr>\n",
       "      <th>2</th>\n",
       "      <td>2468356544.00</td>\n",
       "      <td>0.50</td>\n",
       "      <td>0.50</td>\n",
       "      <td>1.00</td>\n",
       "      <td>nan</td>\n",
       "      <td>1.00</td>\n",
       "      <td>1.00</td>\n",
       "      <td>20.00</td>\n",
       "      <td>graduate</td>\n",
       "      <td>female</td>\n",
       "      <td>0.00</td>\n",
       "      <td>USA</td>\n",
       "      <td>0.50</td>\n",
       "      <td>0.65</td>\n",
       "    </tr>\n",
       "    <tr>\n",
       "      <th>3</th>\n",
       "      <td>2547770703.00</td>\n",
       "      <td>1.00</td>\n",
       "      <td>1.00</td>\n",
       "      <td>1.00</td>\n",
       "      <td>nan</td>\n",
       "      <td>1.00</td>\n",
       "      <td>1.00</td>\n",
       "      <td>21.00</td>\n",
       "      <td>college</td>\n",
       "      <td>male</td>\n",
       "      <td>0.00</td>\n",
       "      <td>USA</td>\n",
       "      <td>1.00</td>\n",
       "      <td>0.00</td>\n",
       "    </tr>\n",
       "    <tr>\n",
       "      <th>4</th>\n",
       "      <td>2621136109.00</td>\n",
       "      <td>0.00</td>\n",
       "      <td>1.00</td>\n",
       "      <td>0.50</td>\n",
       "      <td>nan</td>\n",
       "      <td>0.50</td>\n",
       "      <td>1.00</td>\n",
       "      <td>18.00</td>\n",
       "      <td>underHigh</td>\n",
       "      <td>male</td>\n",
       "      <td>25000.00</td>\n",
       "      <td>USA</td>\n",
       "      <td>0.50</td>\n",
       "      <td>0.50</td>\n",
       "    </tr>\n",
       "  </tbody>\n",
       "</table>\n",
       "</div>"
      ],
      "text/plain": [
       "         UserID  Age  Fitness  Gender  Social Status  Species  Utilitarian  \\\n",
       "0 2271406345.00 0.50     0.50    0.00            nan     1.00         0.50   \n",
       "1 2423489328.00 0.50     1.00    0.00            nan     1.00         1.00   \n",
       "2 2468356544.00 0.50     0.50    1.00            nan     1.00         1.00   \n",
       "3 2547770703.00 1.00     1.00    1.00            nan     1.00         1.00   \n",
       "4 2621136109.00 0.00     1.00    0.50            nan     0.50         1.00   \n",
       "\n",
       "   Review_age Review_education Review_gender  Review_income UserCountry3  \\\n",
       "0       41.00         bachelor          male       15000.00          DEU   \n",
       "1       31.00         bachelor        female       50000.00          BRA   \n",
       "2       20.00         graduate        female           0.00          USA   \n",
       "3       21.00          college          male           0.00          USA   \n",
       "4       18.00        underHigh          male       25000.00          USA   \n",
       "\n",
       "   Review_political  Review_religious  \n",
       "0              0.48              0.81  \n",
       "1              0.35              0.00  \n",
       "2              0.50              0.65  \n",
       "3              1.00              0.00  \n",
       "4              0.50              0.50  "
      ]
     },
     "execution_count": 29,
     "metadata": {},
     "output_type": "execute_result"
    }
   ],
   "source": [
    "df_2 = df_1.groupby([\"UserID\", \"ScenarioType\"])[\"Saved\"].agg({\"n\": \"count\", \"avg\": \"mean\"}).reset_index()\n",
    "res = df_2.pivot_table(index=['UserID'],columns='ScenarioType',values='avg')\n",
    "cols = [\"UserID\", \"Review_age\", \"Review_education\", \"Review_gender\", \"Review_income\", \"UserCountry3\", \"Review_political\", \"Review_religious\" ]\n",
    "df_moral = res.merge(right = df.loc[:, cols].groupby('UserID')[cols].first(), \n",
    "                how = \"left\", \n",
    "                on = \"UserID\")\n",
    "df_moral.head(5)"
   ]
  },
  {
   "cell_type": "code",
   "execution_count": 30,
   "metadata": {},
   "outputs": [
    {
     "data": {
      "text/plain": [
       "USA    54078\n",
       "BRA    26145\n",
       "FRA    19390\n",
       "DEU    18018\n",
       "GBR    14546\n",
       "RUS    14250\n",
       "JPN    11782\n",
       "ITA     9024\n",
       "CAN     8984\n",
       "POL     6478\n",
       "HUN     6471\n",
       "ESP     6014\n",
       "CZE     5735\n",
       "AUS     5505\n",
       "TUR     4421\n",
       "NLD     4080\n",
       "BEL     3372\n",
       "PRT     2845\n",
       "FIN     2667\n",
       "UKR     2568\n",
       "CHE     2564\n",
       "SWE     2439\n",
       "MEX     2268\n",
       "SGP     2238\n",
       "AUT     2101\n",
       "NOR     2088\n",
       "KOR     1761\n",
       "DNK     1710\n",
       "ROU     1699\n",
       "SVK     1524\n",
       "       ...  \n",
       "MYS      686\n",
       "EST      480\n",
       "HRV      468\n",
       "SAU      433\n",
       "VNM      418\n",
       "THA      418\n",
       "ARE      412\n",
       "LTU      409\n",
       "LVA      381\n",
       "SRB      354\n",
       "KAZ      346\n",
       "PER      310\n",
       "SVN      269\n",
       "CRI      263\n",
       "URY      233\n",
       "VEN      232\n",
       "LUX      221\n",
       "EGY      220\n",
       "JOR      216\n",
       "MAR      216\n",
       "ECU      179\n",
       "DZA      167\n",
       "PAK      148\n",
       "GTM      141\n",
       "TUN      121\n",
       "IRN      121\n",
       "BIH      117\n",
       "ISL      110\n",
       "DOM      105\n",
       "CYP      101\n",
       "Name: UserCountry3, Length: 76, dtype: int64"
      ]
     },
     "execution_count": 30,
     "metadata": {},
     "output_type": "execute_result"
    }
   ],
   "source": [
    "#Dropping countries with less than 100 users\n",
    "country = df_moral['UserCountry3'].value_counts()\n",
    "country_remove = country[country < 100].index\n",
    "df_moral = df_moral[~df_moral.UserCountry3.isin(country_remove)]\n",
    "df_moral['UserCountry3'].value_counts()"
   ]
  },
  {
   "cell_type": "code",
   "execution_count": 31,
   "metadata": {},
   "outputs": [],
   "source": [
    "df_moral.to_csv('df_moral.csv')"
   ]
  }
 ],
 "metadata": {
  "kernelspec": {
   "display_name": "Python 3",
   "language": "python",
   "name": "python3"
  },
  "language_info": {
   "codemirror_mode": {
    "name": "ipython",
    "version": 3
   },
   "file_extension": ".py",
   "mimetype": "text/x-python",
   "name": "python",
   "nbconvert_exporter": "python",
   "pygments_lexer": "ipython3",
   "version": "3.7.1"
  }
 },
 "nbformat": 4,
 "nbformat_minor": 2
}
