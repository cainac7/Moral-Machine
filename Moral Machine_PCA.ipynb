{
 "cells": [
  {
   "cell_type": "markdown",
   "metadata": {},
   "source": [
    "**PCA and Correlation Matrixes for Moral Machine Dataset**"
   ]
  },
  {
   "cell_type": "code",
   "execution_count": 64,
   "metadata": {},
   "outputs": [],
   "source": [
    "%matplotlib inline\n",
    "import warnings \n",
    "warnings.simplefilter(action='ignore')\n",
    "import pandas as pd\n",
    "pd.options.display.float_format = '{:.2f}'.format\n",
    "import numpy as np\n",
    "import seaborn as sns\n",
    "import matplotlib.pyplot as plt\n",
    "from sklearn.decomposition import PCA\n",
    "from sklearn import decomposition\n",
    "from sklearn.preprocessing import LabelEncoder"
   ]
  },
  {
   "cell_type": "code",
   "execution_count": 2,
   "metadata": {},
   "outputs": [
    {
     "data": {
      "text/html": [
       "<div>\n",
       "<style scoped>\n",
       "    .dataframe tbody tr th:only-of-type {\n",
       "        vertical-align: middle;\n",
       "    }\n",
       "\n",
       "    .dataframe tbody tr th {\n",
       "        vertical-align: top;\n",
       "    }\n",
       "\n",
       "    .dataframe thead th {\n",
       "        text-align: right;\n",
       "    }\n",
       "</style>\n",
       "<table border=\"1\" class=\"dataframe\">\n",
       "  <thead>\n",
       "    <tr style=\"text-align: right;\">\n",
       "      <th></th>\n",
       "      <th>UserID</th>\n",
       "      <th>Save_young</th>\n",
       "      <th>Save_fit</th>\n",
       "      <th>Save_male</th>\n",
       "      <th>Save_highclass</th>\n",
       "      <th>Save_humans</th>\n",
       "      <th>Save_more</th>\n",
       "      <th>Age</th>\n",
       "      <th>Education</th>\n",
       "      <th>Gender</th>\n",
       "      <th>Income</th>\n",
       "      <th>Country</th>\n",
       "      <th>Political_level</th>\n",
       "      <th>Religious_level</th>\n",
       "    </tr>\n",
       "  </thead>\n",
       "  <tbody>\n",
       "    <tr>\n",
       "      <th>0</th>\n",
       "      <td>2271406345.00</td>\n",
       "      <td>0.50</td>\n",
       "      <td>0.50</td>\n",
       "      <td>0.00</td>\n",
       "      <td>nan</td>\n",
       "      <td>1.00</td>\n",
       "      <td>0.50</td>\n",
       "      <td>41.00</td>\n",
       "      <td>bachelor</td>\n",
       "      <td>male</td>\n",
       "      <td>15000.00</td>\n",
       "      <td>DEU</td>\n",
       "      <td>0.48</td>\n",
       "      <td>0.81</td>\n",
       "    </tr>\n",
       "    <tr>\n",
       "      <th>1</th>\n",
       "      <td>2423489328.00</td>\n",
       "      <td>0.50</td>\n",
       "      <td>1.00</td>\n",
       "      <td>0.00</td>\n",
       "      <td>nan</td>\n",
       "      <td>1.00</td>\n",
       "      <td>1.00</td>\n",
       "      <td>31.00</td>\n",
       "      <td>bachelor</td>\n",
       "      <td>female</td>\n",
       "      <td>50000.00</td>\n",
       "      <td>BRA</td>\n",
       "      <td>0.35</td>\n",
       "      <td>0.00</td>\n",
       "    </tr>\n",
       "    <tr>\n",
       "      <th>2</th>\n",
       "      <td>2468356544.00</td>\n",
       "      <td>0.50</td>\n",
       "      <td>0.50</td>\n",
       "      <td>1.00</td>\n",
       "      <td>nan</td>\n",
       "      <td>1.00</td>\n",
       "      <td>1.00</td>\n",
       "      <td>20.00</td>\n",
       "      <td>graduate</td>\n",
       "      <td>female</td>\n",
       "      <td>0.00</td>\n",
       "      <td>USA</td>\n",
       "      <td>0.50</td>\n",
       "      <td>0.65</td>\n",
       "    </tr>\n",
       "    <tr>\n",
       "      <th>3</th>\n",
       "      <td>2547770703.00</td>\n",
       "      <td>1.00</td>\n",
       "      <td>1.00</td>\n",
       "      <td>1.00</td>\n",
       "      <td>nan</td>\n",
       "      <td>1.00</td>\n",
       "      <td>1.00</td>\n",
       "      <td>21.00</td>\n",
       "      <td>college</td>\n",
       "      <td>male</td>\n",
       "      <td>0.00</td>\n",
       "      <td>USA</td>\n",
       "      <td>1.00</td>\n",
       "      <td>0.00</td>\n",
       "    </tr>\n",
       "    <tr>\n",
       "      <th>4</th>\n",
       "      <td>2621136109.00</td>\n",
       "      <td>0.00</td>\n",
       "      <td>1.00</td>\n",
       "      <td>0.50</td>\n",
       "      <td>nan</td>\n",
       "      <td>0.50</td>\n",
       "      <td>1.00</td>\n",
       "      <td>18.00</td>\n",
       "      <td>underHigh</td>\n",
       "      <td>male</td>\n",
       "      <td>25000.00</td>\n",
       "      <td>USA</td>\n",
       "      <td>0.50</td>\n",
       "      <td>0.50</td>\n",
       "    </tr>\n",
       "    <tr>\n",
       "      <th>5</th>\n",
       "      <td>2634986533.00</td>\n",
       "      <td>1.00</td>\n",
       "      <td>0.00</td>\n",
       "      <td>0.00</td>\n",
       "      <td>0.50</td>\n",
       "      <td>1.00</td>\n",
       "      <td>0.50</td>\n",
       "      <td>18.00</td>\n",
       "      <td>high</td>\n",
       "      <td>female</td>\n",
       "      <td>0.00</td>\n",
       "      <td>ESP</td>\n",
       "      <td>1.00</td>\n",
       "      <td>0.00</td>\n",
       "    </tr>\n",
       "    <tr>\n",
       "      <th>6</th>\n",
       "      <td>2639707939.00</td>\n",
       "      <td>1.00</td>\n",
       "      <td>0.50</td>\n",
       "      <td>1.00</td>\n",
       "      <td>nan</td>\n",
       "      <td>1.00</td>\n",
       "      <td>0.00</td>\n",
       "      <td>37.00</td>\n",
       "      <td>graduate</td>\n",
       "      <td>male</td>\n",
       "      <td>80000.00</td>\n",
       "      <td>USA</td>\n",
       "      <td>0.50</td>\n",
       "      <td>0.50</td>\n",
       "    </tr>\n",
       "    <tr>\n",
       "      <th>7</th>\n",
       "      <td>2641366668.00</td>\n",
       "      <td>1.00</td>\n",
       "      <td>1.00</td>\n",
       "      <td>1.00</td>\n",
       "      <td>nan</td>\n",
       "      <td>1.00</td>\n",
       "      <td>1.00</td>\n",
       "      <td>22.00</td>\n",
       "      <td>bachelor</td>\n",
       "      <td>male</td>\n",
       "      <td>10000.00</td>\n",
       "      <td>ITA</td>\n",
       "      <td>0.00</td>\n",
       "      <td>0.00</td>\n",
       "    </tr>\n",
       "    <tr>\n",
       "      <th>8</th>\n",
       "      <td>2693609593.00</td>\n",
       "      <td>0.50</td>\n",
       "      <td>1.00</td>\n",
       "      <td>1.00</td>\n",
       "      <td>1.00</td>\n",
       "      <td>1.00</td>\n",
       "      <td>0.00</td>\n",
       "      <td>31.00</td>\n",
       "      <td>bachelor</td>\n",
       "      <td>male</td>\n",
       "      <td>35000.00</td>\n",
       "      <td>FIN</td>\n",
       "      <td>0.50</td>\n",
       "      <td>0.50</td>\n",
       "    </tr>\n",
       "    <tr>\n",
       "      <th>9</th>\n",
       "      <td>2713973345.00</td>\n",
       "      <td>0.50</td>\n",
       "      <td>0.50</td>\n",
       "      <td>1.00</td>\n",
       "      <td>0.00</td>\n",
       "      <td>0.50</td>\n",
       "      <td>0.00</td>\n",
       "      <td>18.00</td>\n",
       "      <td>high</td>\n",
       "      <td>male</td>\n",
       "      <td>0.00</td>\n",
       "      <td>USA</td>\n",
       "      <td>0.23</td>\n",
       "      <td>0.65</td>\n",
       "    </tr>\n",
       "  </tbody>\n",
       "</table>\n",
       "</div>"
      ],
      "text/plain": [
       "         UserID  Save_young  Save_fit  Save_male  Save_highclass  Save_humans  \\\n",
       "0 2271406345.00        0.50      0.50       0.00             nan         1.00   \n",
       "1 2423489328.00        0.50      1.00       0.00             nan         1.00   \n",
       "2 2468356544.00        0.50      0.50       1.00             nan         1.00   \n",
       "3 2547770703.00        1.00      1.00       1.00             nan         1.00   \n",
       "4 2621136109.00        0.00      1.00       0.50             nan         0.50   \n",
       "5 2634986533.00        1.00      0.00       0.00            0.50         1.00   \n",
       "6 2639707939.00        1.00      0.50       1.00             nan         1.00   \n",
       "7 2641366668.00        1.00      1.00       1.00             nan         1.00   \n",
       "8 2693609593.00        0.50      1.00       1.00            1.00         1.00   \n",
       "9 2713973345.00        0.50      0.50       1.00            0.00         0.50   \n",
       "\n",
       "   Save_more   Age  Education  Gender   Income Country  Political_level  \\\n",
       "0       0.50 41.00   bachelor    male 15000.00     DEU             0.48   \n",
       "1       1.00 31.00   bachelor  female 50000.00     BRA             0.35   \n",
       "2       1.00 20.00   graduate  female     0.00     USA             0.50   \n",
       "3       1.00 21.00    college    male     0.00     USA             1.00   \n",
       "4       1.00 18.00  underHigh    male 25000.00     USA             0.50   \n",
       "5       0.50 18.00       high  female     0.00     ESP             1.00   \n",
       "6       0.00 37.00   graduate    male 80000.00     USA             0.50   \n",
       "7       1.00 22.00   bachelor    male 10000.00     ITA             0.00   \n",
       "8       0.00 31.00   bachelor    male 35000.00     FIN             0.50   \n",
       "9       0.00 18.00       high    male     0.00     USA             0.23   \n",
       "\n",
       "   Religious_level  \n",
       "0             0.81  \n",
       "1             0.00  \n",
       "2             0.65  \n",
       "3             0.00  \n",
       "4             0.50  \n",
       "5             0.00  \n",
       "6             0.50  \n",
       "7             0.00  \n",
       "8             0.50  \n",
       "9             0.65  "
      ]
     },
     "execution_count": 2,
     "metadata": {},
     "output_type": "execute_result"
    }
   ],
   "source": [
    "df = pd.read_csv('df_moral.csv', index_col=None, low_memory=False, header = 0)\n",
    "df = df.rename(columns={'Age': 'Save_young', 'Fitness': 'Save_fit', 'Gender': 'Save_male', \n",
    "                        'Social Status': 'Save_highclass', 'Species': 'Save_humans', 'Utilitarian': 'Save_more',\n",
    "                    'UserCountry3': 'Country', 'Review_age': 'Age', 'Review_education': 'Education', 'Review_gender': 'Gender', \n",
    "                        'Review_income': 'Income', 'Review_political': 'Political_level', 'Review_religious': 'Religious_level'})\n",
    "df = df.drop(\"Unnamed: 0\", axis = 1)\n",
    "df.head(10)"
   ]
  },
  {
   "cell_type": "markdown",
   "metadata": {},
   "source": [
    "**Null Values** \n",
    "\n",
    "As seen in EDA, Social Class (Save_highclass) has a high number of Nan compared to other scenarios - have run PCA removing those rows and also PCA with just the other 5 classes as PCA doesn't accept nan values.\n",
    "\n",
    "This reduces dataset from approx 280000 to 165601."
   ]
  },
  {
   "cell_type": "code",
   "execution_count": 3,
   "metadata": {},
   "outputs": [
    {
     "data": {
      "text/plain": [
       "UserID                  0\n",
       "Save_young           1632\n",
       "Save_fit             4614\n",
       "Save_male             842\n",
       "Save_highclass     106649\n",
       "Save_humans           847\n",
       "Save_more              27\n",
       "Age                     0\n",
       "Education               0\n",
       "Gender                  0\n",
       "Income                  0\n",
       "Country                 0\n",
       "Political_level         0\n",
       "Religious_level         0\n",
       "dtype: int64"
      ]
     },
     "execution_count": 3,
     "metadata": {},
     "output_type": "execute_result"
    }
   ],
   "source": [
    "df.isnull().sum()"
   ]
  },
  {
   "cell_type": "code",
   "execution_count": 4,
   "metadata": {},
   "outputs": [
    {
     "name": "stdout",
     "output_type": "stream",
     "text": [
      "<class 'pandas.core.frame.DataFrame'>\n",
      "Float64Index: 159471 entries, 2634986533.0 to 9999973321959890.0\n",
      "Data columns (total 6 columns):\n",
      "Save_young        159471 non-null float64\n",
      "Save_fit          159471 non-null float64\n",
      "Save_male         159471 non-null float64\n",
      "Save_highclass    159471 non-null float64\n",
      "Save_humans       159471 non-null float64\n",
      "Save_more         159471 non-null float64\n",
      "dtypes: float64(6)\n",
      "memory usage: 8.5 MB\n"
     ]
    }
   ],
   "source": [
    "#dropping nans reduces from 280000 approx to 165601 rows\n",
    "df_pca = df[['UserID', 'Save_young', 'Save_fit', 'Save_male', 'Save_highclass', 'Save_humans', 'Save_more']]\n",
    "df_pca = df_pca.dropna()\n",
    "df_pca = df_pca.set_index('UserID')\n",
    "df_pca.info()"
   ]
  },
  {
   "cell_type": "code",
   "execution_count": 5,
   "metadata": {},
   "outputs": [
    {
     "data": {
      "text/html": [
       "<div>\n",
       "<style scoped>\n",
       "    .dataframe tbody tr th:only-of-type {\n",
       "        vertical-align: middle;\n",
       "    }\n",
       "\n",
       "    .dataframe tbody tr th {\n",
       "        vertical-align: top;\n",
       "    }\n",
       "\n",
       "    .dataframe thead th {\n",
       "        text-align: right;\n",
       "    }\n",
       "</style>\n",
       "<table border=\"1\" class=\"dataframe\">\n",
       "  <thead>\n",
       "    <tr style=\"text-align: right;\">\n",
       "      <th></th>\n",
       "      <th>Save_young</th>\n",
       "      <th>Save_fit</th>\n",
       "      <th>Save_male</th>\n",
       "      <th>Save_highclass</th>\n",
       "      <th>Save_humans</th>\n",
       "      <th>Save_more</th>\n",
       "    </tr>\n",
       "    <tr>\n",
       "      <th>UserID</th>\n",
       "      <th></th>\n",
       "      <th></th>\n",
       "      <th></th>\n",
       "      <th></th>\n",
       "      <th></th>\n",
       "      <th></th>\n",
       "    </tr>\n",
       "  </thead>\n",
       "  <tbody>\n",
       "    <tr>\n",
       "      <th>2634986533.00</th>\n",
       "      <td>1.00</td>\n",
       "      <td>0.00</td>\n",
       "      <td>0.00</td>\n",
       "      <td>0.50</td>\n",
       "      <td>1.00</td>\n",
       "      <td>0.50</td>\n",
       "    </tr>\n",
       "    <tr>\n",
       "      <th>2693609593.00</th>\n",
       "      <td>0.50</td>\n",
       "      <td>1.00</td>\n",
       "      <td>1.00</td>\n",
       "      <td>1.00</td>\n",
       "      <td>1.00</td>\n",
       "      <td>0.00</td>\n",
       "    </tr>\n",
       "    <tr>\n",
       "      <th>2713973345.00</th>\n",
       "      <td>0.50</td>\n",
       "      <td>0.50</td>\n",
       "      <td>1.00</td>\n",
       "      <td>0.00</td>\n",
       "      <td>0.50</td>\n",
       "      <td>0.00</td>\n",
       "    </tr>\n",
       "    <tr>\n",
       "      <th>2779335115.00</th>\n",
       "      <td>1.00</td>\n",
       "      <td>0.50</td>\n",
       "      <td>0.00</td>\n",
       "      <td>1.00</td>\n",
       "      <td>1.00</td>\n",
       "      <td>1.00</td>\n",
       "    </tr>\n",
       "    <tr>\n",
       "      <th>2809254049.00</th>\n",
       "      <td>1.00</td>\n",
       "      <td>0.00</td>\n",
       "      <td>1.00</td>\n",
       "      <td>0.00</td>\n",
       "      <td>1.00</td>\n",
       "      <td>1.00</td>\n",
       "    </tr>\n",
       "  </tbody>\n",
       "</table>\n",
       "</div>"
      ],
      "text/plain": [
       "               Save_young  Save_fit  Save_male  Save_highclass  Save_humans  \\\n",
       "UserID                                                                        \n",
       "2634986533.00        1.00      0.00       0.00            0.50         1.00   \n",
       "2693609593.00        0.50      1.00       1.00            1.00         1.00   \n",
       "2713973345.00        0.50      0.50       1.00            0.00         0.50   \n",
       "2779335115.00        1.00      0.50       0.00            1.00         1.00   \n",
       "2809254049.00        1.00      0.00       1.00            0.00         1.00   \n",
       "\n",
       "               Save_more  \n",
       "UserID                    \n",
       "2634986533.00       0.50  \n",
       "2693609593.00       0.00  \n",
       "2713973345.00       0.00  \n",
       "2779335115.00       1.00  \n",
       "2809254049.00       1.00  "
      ]
     },
     "execution_count": 5,
     "metadata": {},
     "output_type": "execute_result"
    }
   ],
   "source": [
    "df_pca.head()"
   ]
  },
  {
   "cell_type": "markdown",
   "metadata": {},
   "source": [
    "**Just a quick attempt at removing any values that aren't 0 or 1 to see how much dataset changes**"
   ]
  },
  {
   "cell_type": "code",
   "execution_count": 6,
   "metadata": {},
   "outputs": [
    {
     "data": {
      "text/plain": [
       "25487"
      ]
     },
     "execution_count": 6,
     "metadata": {},
     "output_type": "execute_result"
    }
   ],
   "source": [
    "df_binary_age = df_pca.loc[(df_pca['Save_young'] == 0) | (df_pca['Save_young']== 1)] #114000\n",
    "df_binary_fit = df_binary_age.loc[(df_binary_age['Save_fit'] == 0) | (df_binary_age['Save_fit']== 1)] #73766\n",
    "df_binary_male = df_binary_fit.loc[(df_binary_fit['Save_male'] == 0) | (df_binary_fit['Save_male']== 1)] #42866\n",
    "df_binary_highclass = df_binary_male.loc[(df_binary_male['Save_highclass'] == 0) | (df_binary_male['Save_highclass']== 1)] #39834\n",
    "df_binary_humans = df_binary_highclass.loc[(df_binary_highclass['Save_humans'] == 0) | (df_binary_highclass['Save_humans']== 1)] #34513\n",
    "df_binary_more = df_binary_humans.loc[(df_binary_humans['Save_more'] == 0) | (df_binary_humans['Save_more']== 1)] #25487\n",
    "len(df_binary_more)\n"
   ]
  },
  {
   "cell_type": "markdown",
   "metadata": {},
   "source": [
    "**Running PCA & transforming features**"
   ]
  },
  {
   "cell_type": "code",
   "execution_count": 7,
   "metadata": {},
   "outputs": [
    {
     "data": {
      "text/plain": [
       "array([[ 2.91240795e-01, -6.07551140e-01,  1.81122054e+00,\n",
       "         1.55444168e-01, -4.36821933e-01,  1.28780785e+00],\n",
       "       [ 1.40620995e+00,  5.54266267e-01, -2.02095709e+00,\n",
       "        -1.39369404e-01, -2.17141635e+00,  8.23717942e-01],\n",
       "       [ 3.34877486e+00,  2.88279163e-01, -9.80338449e-01,\n",
       "        -3.03793916e-01,  2.19818632e-03,  1.37624018e+00],\n",
       "       ...,\n",
       "       [-6.26974484e-01,  1.43002155e-01, -8.06557289e-01,\n",
       "        -4.23051682e-01, -4.83096794e-01, -1.23941260e+00],\n",
       "       [-4.58674444e-01, -5.34210556e-01, -4.86010723e-01,\n",
       "        -1.73515840e+00,  1.16291265e+00,  4.45798893e-01],\n",
       "       [-7.42085396e-01, -1.01722631e+00, -1.29444457e+00,\n",
       "         9.41079922e-01,  2.33510380e-01,  1.22854166e-01]])"
      ]
     },
     "execution_count": 7,
     "metadata": {},
     "output_type": "execute_result"
    }
   ],
   "source": [
    "#Scaling values\n",
    "from sklearn.preprocessing import StandardScaler\n",
    "sc = StandardScaler()\n",
    "X = sc.fit_transform(df_pca)\n",
    "\n",
    "pca = PCA()\n",
    "X_std = sc.fit_transform(X)\n",
    "X_reduced = pca.fit_transform(X_std)\n",
    "X_reduced"
   ]
  },
  {
   "cell_type": "markdown",
   "metadata": {},
   "source": [
    "**Explained Variance**\n",
    "\n",
    "Low explained variance amongst the first 2-3 PCs.\n",
    "\n",
    "Relations is to see the effect of each PC on a User basis.\n",
    "\n",
    "Comp is to see the values of the PCA components.\n",
    "\n",
    "Components is to see the effect of each Scenario in each PC, that is how much variance is explained."
   ]
  },
  {
   "cell_type": "code",
   "execution_count": 8,
   "metadata": {},
   "outputs": [
    {
     "data": {
      "text/plain": [
       "array([0.2288045 , 0.16718067, 0.16305556, 0.1553498 , 0.14697499,\n",
       "       0.13863448])"
      ]
     },
     "execution_count": 8,
     "metadata": {},
     "output_type": "execute_result"
    }
   ],
   "source": [
    "explained_variance = pca.explained_variance_ratio_\n",
    "explained_variance"
   ]
  },
  {
   "cell_type": "code",
   "execution_count": 9,
   "metadata": {},
   "outputs": [
    {
     "data": {
      "text/html": [
       "<div>\n",
       "<style scoped>\n",
       "    .dataframe tbody tr th:only-of-type {\n",
       "        vertical-align: middle;\n",
       "    }\n",
       "\n",
       "    .dataframe tbody tr th {\n",
       "        vertical-align: top;\n",
       "    }\n",
       "\n",
       "    .dataframe thead th {\n",
       "        text-align: right;\n",
       "    }\n",
       "</style>\n",
       "<table border=\"1\" class=\"dataframe\">\n",
       "  <thead>\n",
       "    <tr style=\"text-align: right;\">\n",
       "      <th></th>\n",
       "      <th>PC_1</th>\n",
       "      <th>PC_2</th>\n",
       "      <th>PC_3</th>\n",
       "      <th>PC_4</th>\n",
       "      <th>PC_5</th>\n",
       "      <th>PC_6</th>\n",
       "    </tr>\n",
       "    <tr>\n",
       "      <th>UserID</th>\n",
       "      <th></th>\n",
       "      <th></th>\n",
       "      <th></th>\n",
       "      <th></th>\n",
       "      <th></th>\n",
       "      <th></th>\n",
       "    </tr>\n",
       "  </thead>\n",
       "  <tbody>\n",
       "    <tr>\n",
       "      <th>2634986533.00</th>\n",
       "      <td>0.29</td>\n",
       "      <td>-0.61</td>\n",
       "      <td>1.81</td>\n",
       "      <td>0.16</td>\n",
       "      <td>-0.44</td>\n",
       "      <td>1.29</td>\n",
       "    </tr>\n",
       "    <tr>\n",
       "      <th>2693609593.00</th>\n",
       "      <td>1.41</td>\n",
       "      <td>0.55</td>\n",
       "      <td>-2.02</td>\n",
       "      <td>-0.14</td>\n",
       "      <td>-2.17</td>\n",
       "      <td>0.82</td>\n",
       "    </tr>\n",
       "    <tr>\n",
       "      <th>2713973345.00</th>\n",
       "      <td>3.35</td>\n",
       "      <td>0.29</td>\n",
       "      <td>-0.98</td>\n",
       "      <td>-0.30</td>\n",
       "      <td>0.00</td>\n",
       "      <td>1.38</td>\n",
       "    </tr>\n",
       "    <tr>\n",
       "      <th>2779335115.00</th>\n",
       "      <td>-1.42</td>\n",
       "      <td>-0.04</td>\n",
       "      <td>1.01</td>\n",
       "      <td>0.19</td>\n",
       "      <td>-0.15</td>\n",
       "      <td>-0.07</td>\n",
       "    </tr>\n",
       "    <tr>\n",
       "      <th>2809254049.00</th>\n",
       "      <td>0.63</td>\n",
       "      <td>-2.38</td>\n",
       "      <td>-0.30</td>\n",
       "      <td>0.19</td>\n",
       "      <td>1.48</td>\n",
       "      <td>0.75</td>\n",
       "    </tr>\n",
       "  </tbody>\n",
       "</table>\n",
       "</div>"
      ],
      "text/plain": [
       "               PC_1  PC_2  PC_3  PC_4  PC_5  PC_6\n",
       "UserID                                           \n",
       "2634986533.00  0.29 -0.61  1.81  0.16 -0.44  1.29\n",
       "2693609593.00  1.41  0.55 -2.02 -0.14 -2.17  0.82\n",
       "2713973345.00  3.35  0.29 -0.98 -0.30  0.00  1.38\n",
       "2779335115.00 -1.42 -0.04  1.01  0.19 -0.15 -0.07\n",
       "2809254049.00  0.63 -2.38 -0.30  0.19  1.48  0.75"
      ]
     },
     "execution_count": 9,
     "metadata": {},
     "output_type": "execute_result"
    }
   ],
   "source": [
    "relations = pd.DataFrame(X_reduced, columns = ['PC_1', 'PC_2', 'PC_3', 'PC_4', 'PC_5', 'PC_6'], index = np.transpose(df_pca).columns)\n",
    "relations.head()"
   ]
  },
  {
   "cell_type": "code",
   "execution_count": 10,
   "metadata": {},
   "outputs": [
    {
     "data": {
      "text/plain": [
       "array([[-0.54633138,  0.00535662, -0.0045628 ,  0.14080834,  0.30692153,\n",
       "         0.76644941],\n",
       "       [-0.28804791,  0.5259624 , -0.51988043, -0.60086284, -0.04704313,\n",
       "        -0.08286791],\n",
       "       [ 0.24951174, -0.35843573, -0.84226957,  0.27494472,  0.13966887,\n",
       "         0.06890357],\n",
       "       [-0.42220168,  0.29050598, -0.13880781,  0.64662195, -0.50062369,\n",
       "        -0.22212697],\n",
       "       [-0.34642779, -0.66125599, -0.02570747, -0.35306705, -0.56141096,\n",
       "         0.04721032],\n",
       "       [-0.50796442, -0.27056511,  0.01889463,  0.02767629,  0.56415635,\n",
       "        -0.59107639]])"
      ]
     },
     "execution_count": 10,
     "metadata": {},
     "output_type": "execute_result"
    }
   ],
   "source": [
    "comp = np.transpose(pca.components_)\n",
    "comp"
   ]
  },
  {
   "cell_type": "code",
   "execution_count": 11,
   "metadata": {},
   "outputs": [
    {
     "data": {
      "text/html": [
       "<div>\n",
       "<style scoped>\n",
       "    .dataframe tbody tr th:only-of-type {\n",
       "        vertical-align: middle;\n",
       "    }\n",
       "\n",
       "    .dataframe tbody tr th {\n",
       "        vertical-align: top;\n",
       "    }\n",
       "\n",
       "    .dataframe thead th {\n",
       "        text-align: right;\n",
       "    }\n",
       "</style>\n",
       "<table border=\"1\" class=\"dataframe\">\n",
       "  <thead>\n",
       "    <tr style=\"text-align: right;\">\n",
       "      <th></th>\n",
       "      <th>PC_1</th>\n",
       "      <th>PC_2</th>\n",
       "      <th>PC_3</th>\n",
       "      <th>PC_4</th>\n",
       "      <th>PC_5</th>\n",
       "      <th>PC_6</th>\n",
       "    </tr>\n",
       "  </thead>\n",
       "  <tbody>\n",
       "    <tr>\n",
       "      <th>Save_young</th>\n",
       "      <td>-0.55</td>\n",
       "      <td>0.01</td>\n",
       "      <td>-0.00</td>\n",
       "      <td>0.14</td>\n",
       "      <td>0.31</td>\n",
       "      <td>0.77</td>\n",
       "    </tr>\n",
       "    <tr>\n",
       "      <th>Save_fit</th>\n",
       "      <td>-0.29</td>\n",
       "      <td>0.53</td>\n",
       "      <td>-0.52</td>\n",
       "      <td>-0.60</td>\n",
       "      <td>-0.05</td>\n",
       "      <td>-0.08</td>\n",
       "    </tr>\n",
       "    <tr>\n",
       "      <th>Save_male</th>\n",
       "      <td>0.25</td>\n",
       "      <td>-0.36</td>\n",
       "      <td>-0.84</td>\n",
       "      <td>0.27</td>\n",
       "      <td>0.14</td>\n",
       "      <td>0.07</td>\n",
       "    </tr>\n",
       "    <tr>\n",
       "      <th>Save_highclass</th>\n",
       "      <td>-0.42</td>\n",
       "      <td>0.29</td>\n",
       "      <td>-0.14</td>\n",
       "      <td>0.65</td>\n",
       "      <td>-0.50</td>\n",
       "      <td>-0.22</td>\n",
       "    </tr>\n",
       "    <tr>\n",
       "      <th>Save_humans</th>\n",
       "      <td>-0.35</td>\n",
       "      <td>-0.66</td>\n",
       "      <td>-0.03</td>\n",
       "      <td>-0.35</td>\n",
       "      <td>-0.56</td>\n",
       "      <td>0.05</td>\n",
       "    </tr>\n",
       "    <tr>\n",
       "      <th>Save_more</th>\n",
       "      <td>-0.51</td>\n",
       "      <td>-0.27</td>\n",
       "      <td>0.02</td>\n",
       "      <td>0.03</td>\n",
       "      <td>0.56</td>\n",
       "      <td>-0.59</td>\n",
       "    </tr>\n",
       "  </tbody>\n",
       "</table>\n",
       "</div>"
      ],
      "text/plain": [
       "                PC_1  PC_2  PC_3  PC_4  PC_5  PC_6\n",
       "Save_young     -0.55  0.01 -0.00  0.14  0.31  0.77\n",
       "Save_fit       -0.29  0.53 -0.52 -0.60 -0.05 -0.08\n",
       "Save_male       0.25 -0.36 -0.84  0.27  0.14  0.07\n",
       "Save_highclass -0.42  0.29 -0.14  0.65 -0.50 -0.22\n",
       "Save_humans    -0.35 -0.66 -0.03 -0.35 -0.56  0.05\n",
       "Save_more      -0.51 -0.27  0.02  0.03  0.56 -0.59"
      ]
     },
     "execution_count": 11,
     "metadata": {},
     "output_type": "execute_result"
    }
   ],
   "source": [
    "components= pd.DataFrame(comp, columns = ['PC_1', 'PC_2', 'PC_3', 'PC_4', 'PC_5', 'PC_6'], index = df_pca.columns)\n",
    "components"
   ]
  },
  {
   "cell_type": "code",
   "execution_count": 14,
   "metadata": {},
   "outputs": [
    {
     "data": {
      "image/png": "[encoded data removed]",
      "text/plain": [
       "<Figure size 432x288 with 1 Axes>"
      ]
     },
     "metadata": {
      "needs_background": "light"
     },
     "output_type": "display_data"
    }
   ],
   "source": [
    "#Here we see the plotted variance explained by each PC\n",
    "df_variance = pd.DataFrame({'var': explained_variance,\n",
    "             'PC':['PC1','PC2','PC3','PC4','PC5','PC6']})\n",
    "sns.barplot(x='PC',y=\"var\", \n",
    "           data=df_variance);"
   ]
  },
  {
   "cell_type": "markdown",
   "metadata": {},
   "source": [
    "**Correlation Matrix**\n",
    "\n",
    "Plot the Scenarios in a correlation matrix to see how correlated they are.\n",
    "\n",
    "Not very correlated which could explain the low proportion of Variance explained by the first 2-3 PCs."
   ]
  },
  {
   "cell_type": "code",
   "execution_count": 35,
   "metadata": {},
   "outputs": [
    {
     "data": {
      "image/png": "[encoded data removed]",
      "text/plain": [
       "<Figure size 432x288 with 2 Axes>"
      ]
     },
     "metadata": {
      "needs_background": "light"
     },
     "output_type": "display_data"
    }
   ],
   "source": [
    "#Correlation matrix\n",
    "corr = df_pca.corr()\n",
    "ax = sns.heatmap(\n",
    "    corr, \n",
    "    vmin=-1, vmax=1, center=0,\n",
    "    cmap=sns.diverging_palette(20, 220, n=20),\n",
    "    square=True,\n",
    "    annot=True\n",
    ")\n",
    "ax.set_xticklabels(\n",
    "    ax.get_xticklabels(),\n",
    "    rotation=45,\n",
    "    horizontalalignment='right'\n",
    ");"
   ]
  },
  {
   "cell_type": "markdown",
   "metadata": {},
   "source": [
    "**Converting demographic from categorical to numerical variables**"
   ]
  },
  {
   "cell_type": "code",
   "execution_count": 15,
   "metadata": {},
   "outputs": [
    {
     "data": {
      "text/plain": [
       "UserID             float64\n",
       "Save_young         float64\n",
       "Save_fit           float64\n",
       "Save_male          float64\n",
       "Save_highclass     float64\n",
       "Save_humans        float64\n",
       "Save_more          float64\n",
       "Age                float64\n",
       "Education           object\n",
       "Gender              object\n",
       "Income             float64\n",
       "Country             object\n",
       "Political_level    float64\n",
       "Religious_level    float64\n",
       "dtype: object"
      ]
     },
     "execution_count": 15,
     "metadata": {},
     "output_type": "execute_result"
    }
   ],
   "source": [
    "df.dtypes"
   ]
  },
  {
   "cell_type": "code",
   "execution_count": 16,
   "metadata": {},
   "outputs": [
    {
     "data": {
      "text/html": [
       "<div>\n",
       "<style scoped>\n",
       "    .dataframe tbody tr th:only-of-type {\n",
       "        vertical-align: middle;\n",
       "    }\n",
       "\n",
       "    .dataframe tbody tr th {\n",
       "        vertical-align: top;\n",
       "    }\n",
       "\n",
       "    .dataframe thead th {\n",
       "        text-align: right;\n",
       "    }\n",
       "</style>\n",
       "<table border=\"1\" class=\"dataframe\">\n",
       "  <thead>\n",
       "    <tr style=\"text-align: right;\">\n",
       "      <th></th>\n",
       "      <th>UserID</th>\n",
       "      <th>Save_young</th>\n",
       "      <th>Save_fit</th>\n",
       "      <th>Save_male</th>\n",
       "      <th>Save_highclass</th>\n",
       "      <th>Save_humans</th>\n",
       "      <th>Save_more</th>\n",
       "      <th>Age</th>\n",
       "      <th>Education</th>\n",
       "      <th>Gender</th>\n",
       "      <th>Income</th>\n",
       "      <th>Country</th>\n",
       "      <th>Political_level</th>\n",
       "      <th>Religious_level</th>\n",
       "    </tr>\n",
       "  </thead>\n",
       "  <tbody>\n",
       "    <tr>\n",
       "      <th>0</th>\n",
       "      <td>2271406345.00</td>\n",
       "      <td>0.50</td>\n",
       "      <td>0.50</td>\n",
       "      <td>0.00</td>\n",
       "      <td>nan</td>\n",
       "      <td>1.00</td>\n",
       "      <td>0.50</td>\n",
       "      <td>41.00</td>\n",
       "      <td>0</td>\n",
       "      <td>1</td>\n",
       "      <td>15000.00</td>\n",
       "      <td>17</td>\n",
       "      <td>0.48</td>\n",
       "      <td>0.81</td>\n",
       "    </tr>\n",
       "    <tr>\n",
       "      <th>1</th>\n",
       "      <td>2423489328.00</td>\n",
       "      <td>0.50</td>\n",
       "      <td>1.00</td>\n",
       "      <td>0.00</td>\n",
       "      <td>nan</td>\n",
       "      <td>1.00</td>\n",
       "      <td>1.00</td>\n",
       "      <td>31.00</td>\n",
       "      <td>0</td>\n",
       "      <td>0</td>\n",
       "      <td>50000.00</td>\n",
       "      <td>8</td>\n",
       "      <td>0.35</td>\n",
       "      <td>0.00</td>\n",
       "    </tr>\n",
       "    <tr>\n",
       "      <th>2</th>\n",
       "      <td>2468356544.00</td>\n",
       "      <td>0.50</td>\n",
       "      <td>0.50</td>\n",
       "      <td>1.00</td>\n",
       "      <td>nan</td>\n",
       "      <td>1.00</td>\n",
       "      <td>1.00</td>\n",
       "      <td>20.00</td>\n",
       "      <td>2</td>\n",
       "      <td>0</td>\n",
       "      <td>0.00</td>\n",
       "      <td>72</td>\n",
       "      <td>0.50</td>\n",
       "      <td>0.65</td>\n",
       "    </tr>\n",
       "    <tr>\n",
       "      <th>3</th>\n",
       "      <td>2547770703.00</td>\n",
       "      <td>1.00</td>\n",
       "      <td>1.00</td>\n",
       "      <td>1.00</td>\n",
       "      <td>nan</td>\n",
       "      <td>1.00</td>\n",
       "      <td>1.00</td>\n",
       "      <td>21.00</td>\n",
       "      <td>1</td>\n",
       "      <td>1</td>\n",
       "      <td>0.00</td>\n",
       "      <td>72</td>\n",
       "      <td>1.00</td>\n",
       "      <td>0.00</td>\n",
       "    </tr>\n",
       "    <tr>\n",
       "      <th>4</th>\n",
       "      <td>2621136109.00</td>\n",
       "      <td>0.00</td>\n",
       "      <td>1.00</td>\n",
       "      <td>0.50</td>\n",
       "      <td>nan</td>\n",
       "      <td>0.50</td>\n",
       "      <td>1.00</td>\n",
       "      <td>18.00</td>\n",
       "      <td>4</td>\n",
       "      <td>1</td>\n",
       "      <td>25000.00</td>\n",
       "      <td>72</td>\n",
       "      <td>0.50</td>\n",
       "      <td>0.50</td>\n",
       "    </tr>\n",
       "  </tbody>\n",
       "</table>\n",
       "</div>"
      ],
      "text/plain": [
       "         UserID  Save_young  Save_fit  Save_male  Save_highclass  Save_humans  \\\n",
       "0 2271406345.00        0.50      0.50       0.00             nan         1.00   \n",
       "1 2423489328.00        0.50      1.00       0.00             nan         1.00   \n",
       "2 2468356544.00        0.50      0.50       1.00             nan         1.00   \n",
       "3 2547770703.00        1.00      1.00       1.00             nan         1.00   \n",
       "4 2621136109.00        0.00      1.00       0.50             nan         0.50   \n",
       "\n",
       "   Save_more   Age  Education  Gender   Income  Country  Political_level  \\\n",
       "0       0.50 41.00          0       1 15000.00       17             0.48   \n",
       "1       1.00 31.00          0       0 50000.00        8             0.35   \n",
       "2       1.00 20.00          2       0     0.00       72             0.50   \n",
       "3       1.00 21.00          1       1     0.00       72             1.00   \n",
       "4       1.00 18.00          4       1 25000.00       72             0.50   \n",
       "\n",
       "   Religious_level  \n",
       "0             0.81  \n",
       "1             0.00  \n",
       "2             0.65  \n",
       "3             0.00  \n",
       "4             0.50  "
      ]
     },
     "execution_count": 16,
     "metadata": {},
     "output_type": "execute_result"
    }
   ],
   "source": [
    "#Convert categorical variables\n",
    "def object_to_int(dataframe_series):\n",
    "    if dataframe_series.dtype=='object':\n",
    "        dataframe_series = LabelEncoder().fit_transform(dataframe_series)\n",
    "    return dataframe_series\n",
    "\n",
    "df1 = df.apply(lambda x: object_to_int(x))\n",
    "\n",
    "df1.head()"
   ]
  },
  {
   "cell_type": "markdown",
   "metadata": {},
   "source": [
    "**Although doesn't make sense for this study - trialling combining demographic characteristics and scenario choices in PCA**"
   ]
  },
  {
   "cell_type": "code",
   "execution_count": 17,
   "metadata": {},
   "outputs": [],
   "source": [
    "df1 = df1.dropna()\n",
    "df1 = df1.set_index('UserID')"
   ]
  },
  {
   "cell_type": "code",
   "execution_count": 18,
   "metadata": {},
   "outputs": [
    {
     "data": {
      "text/html": [
       "<div>\n",
       "<style scoped>\n",
       "    .dataframe tbody tr th:only-of-type {\n",
       "        vertical-align: middle;\n",
       "    }\n",
       "\n",
       "    .dataframe tbody tr th {\n",
       "        vertical-align: top;\n",
       "    }\n",
       "\n",
       "    .dataframe thead th {\n",
       "        text-align: right;\n",
       "    }\n",
       "</style>\n",
       "<table border=\"1\" class=\"dataframe\">\n",
       "  <thead>\n",
       "    <tr style=\"text-align: right;\">\n",
       "      <th></th>\n",
       "      <th>Save_young</th>\n",
       "      <th>Save_fit</th>\n",
       "      <th>Save_male</th>\n",
       "      <th>Save_highclass</th>\n",
       "      <th>Save_humans</th>\n",
       "      <th>Save_more</th>\n",
       "      <th>Age</th>\n",
       "      <th>Education</th>\n",
       "      <th>Gender</th>\n",
       "      <th>Income</th>\n",
       "      <th>Country</th>\n",
       "      <th>Political_level</th>\n",
       "      <th>Religious_level</th>\n",
       "    </tr>\n",
       "    <tr>\n",
       "      <th>UserID</th>\n",
       "      <th></th>\n",
       "      <th></th>\n",
       "      <th></th>\n",
       "      <th></th>\n",
       "      <th></th>\n",
       "      <th></th>\n",
       "      <th></th>\n",
       "      <th></th>\n",
       "      <th></th>\n",
       "      <th></th>\n",
       "      <th></th>\n",
       "      <th></th>\n",
       "      <th></th>\n",
       "    </tr>\n",
       "  </thead>\n",
       "  <tbody>\n",
       "    <tr>\n",
       "      <th>2634986533.00</th>\n",
       "      <td>1.00</td>\n",
       "      <td>0.00</td>\n",
       "      <td>0.00</td>\n",
       "      <td>0.50</td>\n",
       "      <td>1.00</td>\n",
       "      <td>0.50</td>\n",
       "      <td>18.00</td>\n",
       "      <td>3</td>\n",
       "      <td>0</td>\n",
       "      <td>0.00</td>\n",
       "      <td>23</td>\n",
       "      <td>1.00</td>\n",
       "      <td>0.00</td>\n",
       "    </tr>\n",
       "    <tr>\n",
       "      <th>2693609593.00</th>\n",
       "      <td>0.50</td>\n",
       "      <td>1.00</td>\n",
       "      <td>1.00</td>\n",
       "      <td>1.00</td>\n",
       "      <td>1.00</td>\n",
       "      <td>0.00</td>\n",
       "      <td>31.00</td>\n",
       "      <td>0</td>\n",
       "      <td>1</td>\n",
       "      <td>35000.00</td>\n",
       "      <td>25</td>\n",
       "      <td>0.50</td>\n",
       "      <td>0.50</td>\n",
       "    </tr>\n",
       "    <tr>\n",
       "      <th>2713973345.00</th>\n",
       "      <td>0.50</td>\n",
       "      <td>0.50</td>\n",
       "      <td>1.00</td>\n",
       "      <td>0.00</td>\n",
       "      <td>0.50</td>\n",
       "      <td>0.00</td>\n",
       "      <td>18.00</td>\n",
       "      <td>3</td>\n",
       "      <td>1</td>\n",
       "      <td>0.00</td>\n",
       "      <td>72</td>\n",
       "      <td>0.23</td>\n",
       "      <td>0.65</td>\n",
       "    </tr>\n",
       "    <tr>\n",
       "      <th>2779335115.00</th>\n",
       "      <td>1.00</td>\n",
       "      <td>0.50</td>\n",
       "      <td>0.00</td>\n",
       "      <td>1.00</td>\n",
       "      <td>1.00</td>\n",
       "      <td>1.00</td>\n",
       "      <td>35.00</td>\n",
       "      <td>3</td>\n",
       "      <td>1</td>\n",
       "      <td>50000.00</td>\n",
       "      <td>72</td>\n",
       "      <td>1.00</td>\n",
       "      <td>0.85</td>\n",
       "    </tr>\n",
       "    <tr>\n",
       "      <th>2809254049.00</th>\n",
       "      <td>1.00</td>\n",
       "      <td>0.00</td>\n",
       "      <td>1.00</td>\n",
       "      <td>0.00</td>\n",
       "      <td>1.00</td>\n",
       "      <td>1.00</td>\n",
       "      <td>20.00</td>\n",
       "      <td>0</td>\n",
       "      <td>0</td>\n",
       "      <td>5000.00</td>\n",
       "      <td>61</td>\n",
       "      <td>0.72</td>\n",
       "      <td>0.01</td>\n",
       "    </tr>\n",
       "  </tbody>\n",
       "</table>\n",
       "</div>"
      ],
      "text/plain": [
       "               Save_young  Save_fit  Save_male  Save_highclass  Save_humans  \\\n",
       "UserID                                                                        \n",
       "2634986533.00        1.00      0.00       0.00            0.50         1.00   \n",
       "2693609593.00        0.50      1.00       1.00            1.00         1.00   \n",
       "2713973345.00        0.50      0.50       1.00            0.00         0.50   \n",
       "2779335115.00        1.00      0.50       0.00            1.00         1.00   \n",
       "2809254049.00        1.00      0.00       1.00            0.00         1.00   \n",
       "\n",
       "               Save_more   Age  Education  Gender   Income  Country  \\\n",
       "UserID                                                                \n",
       "2634986533.00       0.50 18.00          3       0     0.00       23   \n",
       "2693609593.00       0.00 31.00          0       1 35000.00       25   \n",
       "2713973345.00       0.00 18.00          3       1     0.00       72   \n",
       "2779335115.00       1.00 35.00          3       1 50000.00       72   \n",
       "2809254049.00       1.00 20.00          0       0  5000.00       61   \n",
       "\n",
       "               Political_level  Religious_level  \n",
       "UserID                                           \n",
       "2634986533.00             1.00             0.00  \n",
       "2693609593.00             0.50             0.50  \n",
       "2713973345.00             0.23             0.65  \n",
       "2779335115.00             1.00             0.85  \n",
       "2809254049.00             0.72             0.01  "
      ]
     },
     "execution_count": 18,
     "metadata": {},
     "output_type": "execute_result"
    }
   ],
   "source": [
    "df1.head()"
   ]
  },
  {
   "cell_type": "code",
   "execution_count": 19,
   "metadata": {},
   "outputs": [
    {
     "data": {
      "text/plain": [
       "array([[-1.93069697,  0.86893275, -1.3473636 , ..., -1.38040404,\n",
       "        -0.32203651, -0.35702811],\n",
       "       [ 1.48498358,  0.967823  ,  0.72492293, ..., -1.79194067,\n",
       "         0.2942628 , -0.04561896],\n",
       "       [ 0.28917657,  3.37322205,  2.32129115, ..., -0.39337268,\n",
       "         0.14693461,  0.02577427],\n",
       "       ...,\n",
       "       [-1.1550222 , -0.39640062, -0.23883901, ...,  0.2450045 ,\n",
       "        -0.24154617,  0.09044933],\n",
       "       [-1.87775674,  0.0540737 , -0.77085755, ..., -0.58711293,\n",
       "         1.42163285, -0.33940798],\n",
       "       [-0.05243965, -0.81749389,  0.76242718, ...,  0.15845831,\n",
       "         0.40059633,  0.2588295 ]])"
      ]
     },
     "execution_count": 19,
     "metadata": {},
     "output_type": "execute_result"
    }
   ],
   "source": [
    "df1_1 = sc.fit_transform(df1)\n",
    "pca = PCA()\n",
    "df1_reduced = pca.fit_transform(df1_1)\n",
    "df1_reduced"
   ]
  },
  {
   "cell_type": "markdown",
   "metadata": {},
   "source": [
    "**As expected - even lower explained variance for each PC which makes sense given the increase in features and lack of correlation between them**"
   ]
  },
  {
   "cell_type": "code",
   "execution_count": 20,
   "metadata": {},
   "outputs": [
    {
     "data": {
      "text/plain": [
       "array([0.12814287, 0.10370053, 0.10090642, 0.08503683, 0.07772224,\n",
       "       0.07672329, 0.07219365, 0.07016307, 0.0688582 , 0.06406692,\n",
       "       0.06252687, 0.05132481, 0.0386343 ])"
      ]
     },
     "execution_count": 20,
     "metadata": {},
     "output_type": "execute_result"
    }
   ],
   "source": [
    "explained_variance = pca.explained_variance_ratio_\n",
    "explained_variance"
   ]
  },
  {
   "cell_type": "markdown",
   "metadata": {},
   "source": [
    "**Running PCA without Social Class as there are such a large number of nans**\n",
    "\n",
    "As seen in the next cell - there are only a few nan values now compared to previously.\n",
    "\n",
    "This provides slightly better scores of explained variance, with more explained by the first 2-3 PC's but there are only 5 PC's, therefore not a major change. "
   ]
  },
  {
   "cell_type": "code",
   "execution_count": 21,
   "metadata": {},
   "outputs": [
    {
     "data": {
      "text/plain": [
       "UserID            0\n",
       "Save_young     1632\n",
       "Save_fit       4614\n",
       "Save_male       842\n",
       "Save_humans     847\n",
       "Save_more        27\n",
       "dtype: int64"
      ]
     },
     "execution_count": 21,
     "metadata": {},
     "output_type": "execute_result"
    }
   ],
   "source": [
    "#dropping social class pca\n",
    "df_nosocial = df[['UserID', 'Save_young', 'Save_fit', 'Save_male', 'Save_humans', 'Save_more']]\n",
    "df_nosocial.isnull().sum()#df1 = df1.dropna()\n",
    "#df1 = df1.set_index('UserID')"
   ]
  },
  {
   "cell_type": "code",
   "execution_count": 22,
   "metadata": {},
   "outputs": [],
   "source": [
    "#lets try using all the components\n",
    "df_nosocial = df_nosocial.dropna()\n",
    "df_nosocial = df_nosocial.set_index('UserID')"
   ]
  },
  {
   "cell_type": "code",
   "execution_count": 23,
   "metadata": {},
   "outputs": [
    {
     "data": {
      "text/html": [
       "<div>\n",
       "<style scoped>\n",
       "    .dataframe tbody tr th:only-of-type {\n",
       "        vertical-align: middle;\n",
       "    }\n",
       "\n",
       "    .dataframe tbody tr th {\n",
       "        vertical-align: top;\n",
       "    }\n",
       "\n",
       "    .dataframe thead th {\n",
       "        text-align: right;\n",
       "    }\n",
       "</style>\n",
       "<table border=\"1\" class=\"dataframe\">\n",
       "  <thead>\n",
       "    <tr style=\"text-align: right;\">\n",
       "      <th></th>\n",
       "      <th>Save_young</th>\n",
       "      <th>Save_fit</th>\n",
       "      <th>Save_male</th>\n",
       "      <th>Save_humans</th>\n",
       "      <th>Save_more</th>\n",
       "    </tr>\n",
       "    <tr>\n",
       "      <th>UserID</th>\n",
       "      <th></th>\n",
       "      <th></th>\n",
       "      <th></th>\n",
       "      <th></th>\n",
       "      <th></th>\n",
       "    </tr>\n",
       "  </thead>\n",
       "  <tbody>\n",
       "    <tr>\n",
       "      <th>2271406345.00</th>\n",
       "      <td>0.50</td>\n",
       "      <td>0.50</td>\n",
       "      <td>0.00</td>\n",
       "      <td>1.00</td>\n",
       "      <td>0.50</td>\n",
       "    </tr>\n",
       "    <tr>\n",
       "      <th>2423489328.00</th>\n",
       "      <td>0.50</td>\n",
       "      <td>1.00</td>\n",
       "      <td>0.00</td>\n",
       "      <td>1.00</td>\n",
       "      <td>1.00</td>\n",
       "    </tr>\n",
       "    <tr>\n",
       "      <th>2468356544.00</th>\n",
       "      <td>0.50</td>\n",
       "      <td>0.50</td>\n",
       "      <td>1.00</td>\n",
       "      <td>1.00</td>\n",
       "      <td>1.00</td>\n",
       "    </tr>\n",
       "    <tr>\n",
       "      <th>2547770703.00</th>\n",
       "      <td>1.00</td>\n",
       "      <td>1.00</td>\n",
       "      <td>1.00</td>\n",
       "      <td>1.00</td>\n",
       "      <td>1.00</td>\n",
       "    </tr>\n",
       "    <tr>\n",
       "      <th>2621136109.00</th>\n",
       "      <td>0.00</td>\n",
       "      <td>1.00</td>\n",
       "      <td>0.50</td>\n",
       "      <td>0.50</td>\n",
       "      <td>1.00</td>\n",
       "    </tr>\n",
       "  </tbody>\n",
       "</table>\n",
       "</div>"
      ],
      "text/plain": [
       "               Save_young  Save_fit  Save_male  Save_humans  Save_more\n",
       "UserID                                                                \n",
       "2271406345.00        0.50      0.50       0.00         1.00       0.50\n",
       "2423489328.00        0.50      1.00       0.00         1.00       1.00\n",
       "2468356544.00        0.50      0.50       1.00         1.00       1.00\n",
       "2547770703.00        1.00      1.00       1.00         1.00       1.00\n",
       "2621136109.00        0.00      1.00       0.50         0.50       1.00"
      ]
     },
     "execution_count": 23,
     "metadata": {},
     "output_type": "execute_result"
    }
   ],
   "source": [
    "df_nosocial.head()"
   ]
  },
  {
   "cell_type": "code",
   "execution_count": 24,
   "metadata": {},
   "outputs": [
    {
     "data": {
      "text/plain": [
       "array([0.25823145, 0.19845967, 0.19525422, 0.18054698, 0.16750768])"
      ]
     },
     "execution_count": 24,
     "metadata": {},
     "output_type": "execute_result"
    }
   ],
   "source": [
    "df_scaled = sc.fit_transform(df_nosocial)\n",
    "pca = PCA()\n",
    "dfsoc_reduced = pca.fit_transform(df_scaled)\n",
    "explained_variance = pca.explained_variance_ratio_\n",
    "explained_variance"
   ]
  },
  {
   "cell_type": "code",
   "execution_count": 27,
   "metadata": {},
   "outputs": [
    {
     "data": {
      "image/png": "[encoded data removed]",
      "text/plain": [
       "<Figure size 432x288 with 2 Axes>"
      ]
     },
     "metadata": {
      "needs_background": "light"
     },
     "output_type": "display_data"
    }
   ],
   "source": [
    "df_cor = df1[['Save_young', 'Save_fit', 'Save_male', 'Save_highclass', 'Save_humans', 'Save_more','Age', 'Education', 'Gender', 'Income', 'Political_level', 'Religious_level']]\n",
    "corr = df_cor.corr()\n",
    "ax = sns.heatmap(\n",
    "    corr, \n",
    "    vmin=-1, vmax=1, center=0,\n",
    "    cmap=sns.diverging_palette(20, 220, n=200),\n",
    "    square=True\n",
    "    annot=True\n",
    ")\n",
    "ax.set_xticklabels(\n",
    "    ax.get_xticklabels(),\n",
    "    rotation=45,\n",
    "    horizontalalignment='right'\n",
    ");\n"
   ]
  },
  {
   "cell_type": "markdown",
   "metadata": {},
   "source": [
    "**Correlation Matrix of Demographic Variables**"
   ]
  },
  {
   "cell_type": "code",
   "execution_count": 25,
   "metadata": {},
   "outputs": [
    {
     "data": {
      "image/png": "[encoded data removed]",
      "text/plain": [
       "<Figure size 432x288 with 2 Axes>"
      ]
     },
     "metadata": {
      "needs_background": "light"
     },
     "output_type": "display_data"
    }
   ],
   "source": [
    "df_dem = df1[['Age', 'Education', 'Gender', 'Income', 'Political_level', 'Religious_level']]\n",
    "corr = df_dem.corr()\n",
    "ax = sns.heatmap(\n",
    "    corr, \n",
    "    vmin=-1, vmax=1, center=0,\n",
    "    cmap=sns.diverging_palette(20, 220, n=200),\n",
    "    square=True\n",
    ")\n",
    "ax.set_xticklabels(\n",
    "    ax.get_xticklabels(),\n",
    "    rotation=45,\n",
    "    horizontalalignment='right'\n",
    ");"
   ]
  },
  {
   "cell_type": "markdown",
   "metadata": {},
   "source": [
    "**Mosaic Plot to showcase representation of population (Education, Gender)**"
   ]
  },
  {
   "cell_type": "code",
   "execution_count": 39,
   "metadata": {},
   "outputs": [
    {
     "data": {
      "image/png": "[encoded data removed]",
      "text/plain": [
       "<Figure size 432x288 with 3 Axes>"
      ]
     },
     "metadata": {
      "needs_background": "light"
     },
     "output_type": "display_data"
    }
   ],
   "source": [
    "from statsmodels.graphics.mosaicplot import mosaic\n",
    "\n",
    "mosaic(df, ['Education', 'Gender'])\n",
    "plt.show()"
   ]
  },
  {
   "cell_type": "markdown",
   "metadata": {},
   "source": [
    "**Attempt to cluster. First trial with a dataset of just utilitarianism and age**"
   ]
  },
  {
   "cell_type": "code",
   "execution_count": 40,
   "metadata": {},
   "outputs": [],
   "source": [
    "df_cluster1 = df[['UserID', 'Save_more', 'Age']]\n",
    "df_cluster1 = df_cluster1.set_index('UserID')"
   ]
  },
  {
   "cell_type": "code",
   "execution_count": 41,
   "metadata": {},
   "outputs": [
    {
     "data": {
      "text/html": [
       "<div>\n",
       "<style scoped>\n",
       "    .dataframe tbody tr th:only-of-type {\n",
       "        vertical-align: middle;\n",
       "    }\n",
       "\n",
       "    .dataframe tbody tr th {\n",
       "        vertical-align: top;\n",
       "    }\n",
       "\n",
       "    .dataframe thead th {\n",
       "        text-align: right;\n",
       "    }\n",
       "</style>\n",
       "<table border=\"1\" class=\"dataframe\">\n",
       "  <thead>\n",
       "    <tr style=\"text-align: right;\">\n",
       "      <th></th>\n",
       "      <th>Save_more</th>\n",
       "      <th>Age</th>\n",
       "    </tr>\n",
       "    <tr>\n",
       "      <th>UserID</th>\n",
       "      <th></th>\n",
       "      <th></th>\n",
       "    </tr>\n",
       "  </thead>\n",
       "  <tbody>\n",
       "    <tr>\n",
       "      <th>2271406345.00</th>\n",
       "      <td>0.50</td>\n",
       "      <td>41.00</td>\n",
       "    </tr>\n",
       "    <tr>\n",
       "      <th>2423489328.00</th>\n",
       "      <td>1.00</td>\n",
       "      <td>31.00</td>\n",
       "    </tr>\n",
       "    <tr>\n",
       "      <th>2468356544.00</th>\n",
       "      <td>1.00</td>\n",
       "      <td>20.00</td>\n",
       "    </tr>\n",
       "    <tr>\n",
       "      <th>2547770703.00</th>\n",
       "      <td>1.00</td>\n",
       "      <td>21.00</td>\n",
       "    </tr>\n",
       "    <tr>\n",
       "      <th>2621136109.00</th>\n",
       "      <td>1.00</td>\n",
       "      <td>18.00</td>\n",
       "    </tr>\n",
       "  </tbody>\n",
       "</table>\n",
       "</div>"
      ],
      "text/plain": [
       "               Save_more   Age\n",
       "UserID                        \n",
       "2271406345.00       0.50 41.00\n",
       "2423489328.00       1.00 31.00\n",
       "2468356544.00       1.00 20.00\n",
       "2547770703.00       1.00 21.00\n",
       "2621136109.00       1.00 18.00"
      ]
     },
     "execution_count": 41,
     "metadata": {},
     "output_type": "execute_result"
    }
   ],
   "source": [
    "df_cluster1 = df_cluster1.dropna()\n",
    "df_cluster1.head()"
   ]
  },
  {
   "cell_type": "code",
   "execution_count": 42,
   "metadata": {},
   "outputs": [
    {
     "data": {
      "text/html": [
       "<div>\n",
       "<style scoped>\n",
       "    .dataframe tbody tr th:only-of-type {\n",
       "        vertical-align: middle;\n",
       "    }\n",
       "\n",
       "    .dataframe tbody tr th {\n",
       "        vertical-align: top;\n",
       "    }\n",
       "\n",
       "    .dataframe thead th {\n",
       "        text-align: right;\n",
       "    }\n",
       "</style>\n",
       "<table border=\"1\" class=\"dataframe\">\n",
       "  <thead>\n",
       "    <tr style=\"text-align: right;\">\n",
       "      <th></th>\n",
       "      <th>Save_more</th>\n",
       "      <th>Age</th>\n",
       "    </tr>\n",
       "    <tr>\n",
       "      <th>UserID</th>\n",
       "      <th></th>\n",
       "      <th></th>\n",
       "    </tr>\n",
       "  </thead>\n",
       "  <tbody>\n",
       "    <tr>\n",
       "      <th>2271406345.00</th>\n",
       "      <td>0.50</td>\n",
       "      <td>41.00</td>\n",
       "    </tr>\n",
       "    <tr>\n",
       "      <th>2423489328.00</th>\n",
       "      <td>1.00</td>\n",
       "      <td>31.00</td>\n",
       "    </tr>\n",
       "    <tr>\n",
       "      <th>2468356544.00</th>\n",
       "      <td>1.00</td>\n",
       "      <td>20.00</td>\n",
       "    </tr>\n",
       "    <tr>\n",
       "      <th>2547770703.00</th>\n",
       "      <td>1.00</td>\n",
       "      <td>21.00</td>\n",
       "    </tr>\n",
       "    <tr>\n",
       "      <th>2621136109.00</th>\n",
       "      <td>1.00</td>\n",
       "      <td>18.00</td>\n",
       "    </tr>\n",
       "  </tbody>\n",
       "</table>\n",
       "</div>"
      ],
      "text/plain": [
       "               Save_more   Age\n",
       "UserID                        \n",
       "2271406345.00       0.50 41.00\n",
       "2423489328.00       1.00 31.00\n",
       "2468356544.00       1.00 20.00\n",
       "2547770703.00       1.00 21.00\n",
       "2621136109.00       1.00 18.00"
      ]
     },
     "execution_count": 42,
     "metadata": {},
     "output_type": "execute_result"
    }
   ],
   "source": [
    "#try with first 100 values\n",
    "\n",
    "df_trial = df_cluster1.head(100)\n",
    "df_trial.head()"
   ]
  },
  {
   "cell_type": "code",
   "execution_count": 43,
   "metadata": {},
   "outputs": [
    {
     "data": {
      "image/png": "[encoded data removed]",
      "text/plain": [
       "<Figure size 432x432 with 1 Axes>"
      ]
     },
     "metadata": {},
     "output_type": "display_data"
    }
   ],
   "source": [
    "%matplotlib inline\n",
    "sns.set_context('notebook')\n",
    "plt.style.use('fivethirtyeight')\n",
    "from warnings import filterwarnings\n",
    "filterwarnings('ignore')\n",
    "\n",
    "\n",
    "# Plot the data\n",
    "plt.figure(figsize=(6, 6))\n",
    "plt.scatter(df_trial.iloc[:, 0], df_trial.iloc[:, 1])\n",
    "plt.xlabel('Age')\n",
    "plt.ylabel('Utilitarianism')\n",
    "plt.title('Visualization of raw data');"
   ]
  },
  {
   "cell_type": "code",
   "execution_count": 73,
   "metadata": {},
   "outputs": [],
   "source": [
    "from sklearn.cluster import KMeans, SpectralClustering\n",
    "from sklearn.preprocessing import StandardScaler\n",
    "from sklearn.metrics import silhouette_samples, silhouette_score\n",
    "\n",
    "\n",
    "# Standardize the data\n",
    "X_std = StandardScaler().fit_transform(df_trial1)"
   ]
  },
  {
   "cell_type": "code",
   "execution_count": 74,
   "metadata": {},
   "outputs": [
    {
     "name": "stdout",
     "output_type": "stream",
     "text": [
      "[1 1 1 0 0 0 0 0 1 0 0 1 0 0 1 1 1 1 0 1 1 0 1 0 0 0 0 0 0 0 0 0 0 1 0 0 0\n",
      " 1 1 0 0 0 1 1 0 0 0 0 0 0 1 1 0 0 0 1 0 0 0 0 0 0 0 0 0 0 0 0 0 0 0 0 1 0\n",
      " 1 1 0 0 0 0 1 1 0 0 1 0 0 0 0 0 1 0 1 1 1 1 0 0 0 0]\n"
     ]
    }
   ],
   "source": [
    "# Run local implementation of kmeans\n",
    "kmeans = KMeans(n_clusters=2).fit(X_std)\n",
    "print(kmeans.labels_)"
   ]
  },
  {
   "cell_type": "code",
   "execution_count": 65,
   "metadata": {},
   "outputs": [
    {
     "ename": "IndexError",
     "evalue": "index 100 is out of bounds for axis 0 with size 100",
     "output_type": "error",
     "traceback": [
      "\u001b[0;31m---------------------------------------------------------------------------\u001b[0m",
      "\u001b[0;31mIndexError\u001b[0m                                Traceback (most recent call last)",
      "\u001b[0;32m<ipython-input-65-080e1c3e0d35>\u001b[0m in \u001b[0;36m<module>\u001b[0;34m\u001b[0m\n\u001b[1;32m      1\u001b[0m \u001b[0;32mimport\u001b[0m \u001b[0mpylab\u001b[0m \u001b[0;32mas\u001b[0m \u001b[0mpl\u001b[0m\u001b[0;34m\u001b[0m\u001b[0;34m\u001b[0m\u001b[0m\n\u001b[1;32m      2\u001b[0m \u001b[0;32mfor\u001b[0m \u001b[0mi\u001b[0m \u001b[0;32min\u001b[0m \u001b[0mrange\u001b[0m\u001b[0;34m(\u001b[0m\u001b[0;36m0\u001b[0m\u001b[0;34m,\u001b[0m \u001b[0mX_std\u001b[0m\u001b[0;34m.\u001b[0m\u001b[0mshape\u001b[0m\u001b[0;34m[\u001b[0m\u001b[0;36m0\u001b[0m\u001b[0;34m]\u001b[0m\u001b[0;34m)\u001b[0m\u001b[0;34m:\u001b[0m\u001b[0;34m\u001b[0m\u001b[0;34m\u001b[0m\u001b[0m\n\u001b[0;32m----> 3\u001b[0;31m     \u001b[0;32mif\u001b[0m \u001b[0mkmeans\u001b[0m\u001b[0;34m.\u001b[0m\u001b[0mlabels_\u001b[0m\u001b[0;34m[\u001b[0m\u001b[0mi\u001b[0m\u001b[0;34m]\u001b[0m \u001b[0;34m==\u001b[0m \u001b[0;36m0\u001b[0m\u001b[0;34m:\u001b[0m\u001b[0;34m\u001b[0m\u001b[0;34m\u001b[0m\u001b[0m\n\u001b[0m\u001b[1;32m      4\u001b[0m         c1 = pl.scatter(X_std[i,0],X_std[i,1],c='r',\n\u001b[1;32m      5\u001b[0m         marker='+')\n",
      "\u001b[0;31mIndexError\u001b[0m: index 100 is out of bounds for axis 0 with size 100"
     ]
    },
    {
     "data": {
      "image/png": "[encoded data removed]",
      "text/plain": [
       "<Figure size 432x288 with 1 Axes>"
      ]
     },
     "metadata": {
      "needs_background": "light"
     },
     "output_type": "display_data"
    }
   ],
   "source": [
    "import pylab as pl\n",
    "for i in range(0, X_std.shape[0]):\n",
    "    if kmeans.labels_[i] == 0:\n",
    "        c1 = pl.scatter(X_std[i,0],X_std[i,1],c='r',\n",
    "        marker='+')\n",
    "    elif  kmeans.labels_[i] == 1:\n",
    "        c2 = pl.scatter(X_std[i,0],X_std[i,1],c='g',\n",
    "        marker='o')\n",
    "\n",
    "pl.legend([c1, c2], ['Cluster 0', 'Cluster 1'])\n",
    "pl.title('Cluster')"
   ]
  },
  {
   "cell_type": "markdown",
   "metadata": {},
   "source": [
    "**Same with 4 Clusters**"
   ]
  },
  {
   "cell_type": "code",
   "execution_count": 47,
   "metadata": {},
   "outputs": [
    {
     "name": "stdout",
     "output_type": "stream",
     "text": [
      "[0 0 2 2 2 1 3 2 3 3 0 2 2 2 0 2 1 0 1 2 0 1 2 2 0 2 1 1 2 2 2 1 1 2 0 1 3\n",
      " 2 0 2 2 1 0 3 1 2 2 2 0 2 0 0 2 0 2 2 1 1 2 2 1 2 1 2 2 2 2 2 1 2 3 2 0 3\n",
      " 2 0 2 0 1 1 2 2 2 0 2 3 2 2 1 2 0 2 1 0 0 2 2 1 1 2]\n"
     ]
    }
   ],
   "source": [
    "# Run local implementation of kmeans\n",
    "kmeans = KMeans(n_clusters=4).fit(X_std)\n",
    "print(kmeans.labels_)"
   ]
  },
  {
   "cell_type": "code",
   "execution_count": 48,
   "metadata": {},
   "outputs": [
    {
     "data": {
      "text/plain": [
       "Text(0.5, 1.0, '4 Clusters')"
      ]
     },
     "execution_count": 48,
     "metadata": {},
     "output_type": "execute_result"
    },
    {
     "data": {
      "image/png": "[encoded data removed]",
      "text/plain": [
       "<Figure size 432x288 with 1 Axes>"
      ]
     },
     "metadata": {},
     "output_type": "display_data"
    }
   ],
   "source": [
    "for i in range(0, X_std.shape[0]):\n",
    "    if kmeans.labels_[i] == 0:\n",
    "        c1 = pl.scatter(X_std[i,0],X_std[i,1],c='r',\n",
    "        marker='+')\n",
    "    elif  kmeans.labels_[i] == 1:\n",
    "        c2 = pl.scatter(X_std[i,0],X_std[i,1],c='g',\n",
    "        marker='o')\n",
    "    elif  kmeans.labels_[i] == 2:\n",
    "        c3 = pl.scatter(X_std[i,0],X_std[i,1],c='b',\n",
    "        marker='*')\n",
    "    elif  kmeans.labels_[i] == 3:\n",
    "        c4 = pl.scatter(X_std[i,0],X_std[i,1],c='y',\n",
    "        marker='^')\n",
    "\n",
    "pl.legend([c1, c2, c3, c4], ['Cluster 0', 'Cluster 1',\n",
    "        'Cluster 2', 'Cluster 3'])\n",
    "pl.title('4 Clusters')"
   ]
  },
  {
   "cell_type": "code",
   "execution_count": 56,
   "metadata": {},
   "outputs": [
    {
     "data": {
      "text/html": [
       "<div>\n",
       "<style scoped>\n",
       "    .dataframe tbody tr th:only-of-type {\n",
       "        vertical-align: middle;\n",
       "    }\n",
       "\n",
       "    .dataframe tbody tr th {\n",
       "        vertical-align: top;\n",
       "    }\n",
       "\n",
       "    .dataframe thead th {\n",
       "        text-align: right;\n",
       "    }\n",
       "</style>\n",
       "<table border=\"1\" class=\"dataframe\">\n",
       "  <thead>\n",
       "    <tr style=\"text-align: right;\">\n",
       "      <th></th>\n",
       "      <th>Save_more</th>\n",
       "      <th>Age</th>\n",
       "    </tr>\n",
       "    <tr>\n",
       "      <th>UserID</th>\n",
       "      <th></th>\n",
       "      <th></th>\n",
       "    </tr>\n",
       "  </thead>\n",
       "  <tbody>\n",
       "    <tr>\n",
       "      <th>2634986533.00</th>\n",
       "      <td>0.50</td>\n",
       "      <td>18.00</td>\n",
       "    </tr>\n",
       "    <tr>\n",
       "      <th>2693609593.00</th>\n",
       "      <td>0.00</td>\n",
       "      <td>31.00</td>\n",
       "    </tr>\n",
       "    <tr>\n",
       "      <th>2713973345.00</th>\n",
       "      <td>0.00</td>\n",
       "      <td>18.00</td>\n",
       "    </tr>\n",
       "    <tr>\n",
       "      <th>2779335115.00</th>\n",
       "      <td>1.00</td>\n",
       "      <td>35.00</td>\n",
       "    </tr>\n",
       "    <tr>\n",
       "      <th>2809254049.00</th>\n",
       "      <td>1.00</td>\n",
       "      <td>20.00</td>\n",
       "    </tr>\n",
       "  </tbody>\n",
       "</table>\n",
       "</div>"
      ],
      "text/plain": [
       "               Save_more   Age\n",
       "UserID                        \n",
       "2634986533.00       0.50 18.00\n",
       "2693609593.00       0.00 31.00\n",
       "2713973345.00       0.00 18.00\n",
       "2779335115.00       1.00 35.00\n",
       "2809254049.00       1.00 20.00"
      ]
     },
     "execution_count": 56,
     "metadata": {},
     "output_type": "execute_result"
    }
   ],
   "source": [
    "df_cluster2 = df1[['Save_more', 'Age']]\n",
    "df_cluster2 = df_cluster2.dropna()\n",
    "df_trial1 = df_cluster2.head(100)\n",
    "df_trial1.head()\n"
   ]
  },
  {
   "cell_type": "code",
   "execution_count": 58,
   "metadata": {},
   "outputs": [
    {
     "data": {
      "image/png": "[encoded data removed]",
      "text/plain": [
       "<Figure size 432x432 with 1 Axes>"
      ]
     },
     "metadata": {},
     "output_type": "display_data"
    }
   ],
   "source": [
    "%matplotlib inline\n",
    "sns.set_context('notebook')\n",
    "plt.style.use('fivethirtyeight')\n",
    "from warnings import filterwarnings\n",
    "filterwarnings('ignore')\n",
    "\n",
    "\n",
    "# Plot the data\n",
    "plt.figure(figsize=(6, 6))\n",
    "plt.scatter(df_trial1.iloc[:, 0], df_trial1.iloc[:, 1])\n",
    "plt.xlabel('Utilitarianism')\n",
    "plt.ylabel('Age')\n",
    "plt.title('Visualization of raw data');"
   ]
  },
  {
   "cell_type": "code",
   "execution_count": 69,
   "metadata": {},
   "outputs": [],
   "source": [
    "X_std_1 = StandardScaler().fit_transform(df_trial1)"
   ]
  },
  {
   "cell_type": "code",
   "execution_count": 70,
   "metadata": {},
   "outputs": [
    {
     "name": "stdout",
     "output_type": "stream",
     "text": [
      "[0 2 0 1 0 0 2 0 0 1 2 2 0 3 0 2 2 2 0 2 1 0 0 0 0 0 1 2 1 1 0 1 2 2 0 0 0\n",
      " 0 2 1 0 1 2 0 2 2 1 0 0 0 0 0 1 2 0 2 2 2 2 0 2 1 2 0 2 2 0 1 2 2 2 0 0 1\n",
      " 0 0 2 0 0 0 0 0 2 2 0 2 3 0 0 0 2 2 0 0 0 2 3 1 1 1]\n"
     ]
    }
   ],
   "source": [
    "# Run local implementation of kmeans\n",
    "kmeans = KMeans(n_clusters=4).fit(df_trial1)\n",
    "print(kmeans.labels_)\n"
   ]
  },
  {
   "cell_type": "code",
   "execution_count": 78,
   "metadata": {},
   "outputs": [
    {
     "data": {
      "text/plain": [
       "Text(0, 0.5, 'Age')"
      ]
     },
     "execution_count": 78,
     "metadata": {},
     "output_type": "execute_result"
    },
    {
     "data": {
      "image/png": "[encoded data removed]",
      "text/plain": [
       "<Figure size 432x288 with 1 Axes>"
      ]
     },
     "metadata": {
      "needs_background": "light"
     },
     "output_type": "display_data"
    }
   ],
   "source": [
    "for i in range(0, X_std.shape[0]):\n",
    "    if kmeans.labels_[i] == 0:\n",
    "        c1 = pl.scatter(X_std[i,0],X_std[i,1],c='r',\n",
    "        marker='+')\n",
    "    elif  kmeans.labels_[i] == 1:\n",
    "        c2 = pl.scatter(X_std[i,0],X_std[i,1],c='g',\n",
    "        marker='o')\n",
    "    elif  kmeans.labels_[i] == 2:\n",
    "        c3 = pl.scatter(X_std[i,0],X_std[i,1],c='b',\n",
    "        marker='*')\n",
    "    elif  kmeans.labels_[i] == 3:\n",
    "        c4 = pl.scatter(X_std[i,0],X_std[i,1],c='y',\n",
    "        marker='^')\n",
    "\n",
    "pl.legend([c1, c2, c3, c4], ['Cluster 0', 'Cluster 1',\n",
    "        'Cluster 2', 'Cluster 3'])\n",
    "pl.title('K-Means clustering (K=4): Age & Utilitarianism')\n",
    "plt.xlabel('Utilitarianism')\n",
    "plt.ylabel('Age')"
   ]
  },
  {
   "cell_type": "markdown",
   "metadata": {},
   "source": [
    "**Save_more and Save_male**"
   ]
  },
  {
   "cell_type": "code",
   "execution_count": 54,
   "metadata": {},
   "outputs": [
    {
     "data": {
      "text/html": [
       "<div>\n",
       "<style scoped>\n",
       "    .dataframe tbody tr th:only-of-type {\n",
       "        vertical-align: middle;\n",
       "    }\n",
       "\n",
       "    .dataframe tbody tr th {\n",
       "        vertical-align: top;\n",
       "    }\n",
       "\n",
       "    .dataframe thead th {\n",
       "        text-align: right;\n",
       "    }\n",
       "</style>\n",
       "<table border=\"1\" class=\"dataframe\">\n",
       "  <thead>\n",
       "    <tr style=\"text-align: right;\">\n",
       "      <th></th>\n",
       "      <th>Save_more</th>\n",
       "      <th>Save_male</th>\n",
       "    </tr>\n",
       "  </thead>\n",
       "  <tbody>\n",
       "    <tr>\n",
       "      <th>count</th>\n",
       "      <td>100.00</td>\n",
       "      <td>100.00</td>\n",
       "    </tr>\n",
       "    <tr>\n",
       "      <th>mean</th>\n",
       "      <td>0.80</td>\n",
       "      <td>0.46</td>\n",
       "    </tr>\n",
       "    <tr>\n",
       "      <th>std</th>\n",
       "      <td>0.30</td>\n",
       "      <td>0.39</td>\n",
       "    </tr>\n",
       "    <tr>\n",
       "      <th>min</th>\n",
       "      <td>0.00</td>\n",
       "      <td>0.00</td>\n",
       "    </tr>\n",
       "    <tr>\n",
       "      <th>25%</th>\n",
       "      <td>0.50</td>\n",
       "      <td>0.00</td>\n",
       "    </tr>\n",
       "    <tr>\n",
       "      <th>50%</th>\n",
       "      <td>1.00</td>\n",
       "      <td>0.50</td>\n",
       "    </tr>\n",
       "    <tr>\n",
       "      <th>75%</th>\n",
       "      <td>1.00</td>\n",
       "      <td>1.00</td>\n",
       "    </tr>\n",
       "    <tr>\n",
       "      <th>max</th>\n",
       "      <td>1.00</td>\n",
       "      <td>1.00</td>\n",
       "    </tr>\n",
       "  </tbody>\n",
       "</table>\n",
       "</div>"
      ],
      "text/plain": [
       "       Save_more  Save_male\n",
       "count     100.00     100.00\n",
       "mean        0.80       0.46\n",
       "std         0.30       0.39\n",
       "min         0.00       0.00\n",
       "25%         0.50       0.00\n",
       "50%         1.00       0.50\n",
       "75%         1.00       1.00\n",
       "max         1.00       1.00"
      ]
     },
     "execution_count": 54,
     "metadata": {},
     "output_type": "execute_result"
    }
   ],
   "source": [
    "cluster_more_male = df1[['Save_more', 'Save_male']]\n",
    "cluster_more_male = cluster_more_male.dropna()\n",
    "trial_cluster_more_male = cluster_more_male.head(100)\n",
    "trial_cluster_more_male.describe()"
   ]
  },
  {
   "cell_type": "code",
   "execution_count": 55,
   "metadata": {},
   "outputs": [
    {
     "data": {
      "image/png": "[encoded data removed]",
      "text/plain": [
       "<Figure size 432x432 with 1 Axes>"
      ]
     },
     "metadata": {},
     "output_type": "display_data"
    }
   ],
   "source": [
    "%matplotlib inline\n",
    "sns.set_context('notebook')\n",
    "plt.style.use('fivethirtyeight')\n",
    "from warnings import filterwarnings\n",
    "filterwarnings('ignore')\n",
    "\n",
    "\n",
    "# Plot the data\n",
    "plt.figure(figsize=(6, 6))\n",
    "plt.scatter(trial_cluster_more_male.iloc[:, 0], trial_cluster_more_male.iloc[:, 1])\n",
    "plt.xlabel('Utilitarianism')\n",
    "plt.ylabel('Male-Female')\n",
    "plt.title('Visualization of raw data');"
   ]
  },
  {
   "cell_type": "code",
   "execution_count": 56,
   "metadata": {},
   "outputs": [
    {
     "name": "stdout",
     "output_type": "stream",
     "text": [
      "[1 0 0 1 2 1 2 2 1 2 1 1 2 1 1 0 0 0 2 1 0 2 1 1 2 2 2 2 2 2 2 2 2 0 2 1 1\n",
      " 0 0 2 1 2 0 0 2 1 2 1 2 1 0 0 2 2 2 0 1 2 1 1 2 1 2 1 2 1 2 1 2 2 2 2 1 2\n",
      " 1 0 2 1 1 2 2 1 2 2 1 2 1 1 2 2 0 2 0 0 0 1 1 2 2 2]\n"
     ]
    }
   ],
   "source": [
    "more_male_scaled = StandardScaler().fit_transform(trial_cluster_more_male)\n",
    "# Run local implementation of kmeans\n",
    "kmeans = KMeans(n_clusters=3).fit(more_male_scaled)\n",
    "print(kmeans.labels_)"
   ]
  },
  {
   "cell_type": "code",
   "execution_count": 57,
   "metadata": {},
   "outputs": [
    {
     "data": {
      "text/plain": [
       "Text(0.5, 1.0, 'Utilitarianism & Male-Female')"
      ]
     },
     "execution_count": 57,
     "metadata": {},
     "output_type": "execute_result"
    },
    {
     "data": {
      "image/png": "[encoded data removed]",
      "text/plain": [
       "<Figure size 432x288 with 1 Axes>"
      ]
     },
     "metadata": {},
     "output_type": "display_data"
    }
   ],
   "source": [
    "for i in range(0, more_male_scaled.shape[0]):\n",
    "    if kmeans.labels_[i] == 0:\n",
    "        c1 = pl.scatter(more_male_scaled[i,0],more_male_scaled[i,1],c='r',\n",
    "        marker='+')\n",
    "    elif  kmeans.labels_[i] == 1:\n",
    "        c2 = pl.scatter(more_male_scaled[i,0],more_male_scaled[i,1],c='g',\n",
    "        marker='o')\n",
    "    elif  kmeans.labels_[i] == 2:\n",
    "        c3 = pl.scatter(more_male_scaled[i,0],more_male_scaled[i,1],c='b',\n",
    "        marker='*')\n",
    "\n",
    "pl.legend([c1, c2, c3], ['Cluster 0', 'Cluster 1',\n",
    "        'Cluster 2' ])\n",
    "pl.title('Utilitarianism & Male-Female')"
   ]
  }
 ],
 "metadata": {
  "kernelspec": {
   "display_name": "Python 3",
   "language": "python",
   "name": "python3"
  },
  "language_info": {
   "codemirror_mode": {
    "name": "ipython",
    "version": 3
   },
   "file_extension": ".py",
   "mimetype": "text/x-python",
   "name": "python",
   "nbconvert_exporter": "python",
   "pygments_lexer": "ipython3",
   "version": "3.7.1"
  }
 },
 "nbformat": 4,
 "nbformat_minor": 2
}
